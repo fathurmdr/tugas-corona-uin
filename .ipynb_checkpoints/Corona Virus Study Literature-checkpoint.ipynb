{
 "cells": [
  {
   "cell_type": "markdown",
   "metadata": {},
   "source": [
    "# Corona Virus Disease 2019 "
   ]
  },
  {
   "cell_type": "markdown",
   "metadata": {},
   "source": [
    "<img src=\"img/Gambar Covid-19 Tolong gabunging ama Corona Virus Study Literature.ipynb.png\">"
   ]
  },
  {
   "cell_type": "markdown",
   "metadata": {},
   "source": [
    "Covid-19 adalah virus yang pertama kali ditemukan pada tahun 2019, dimana penyebaraannya diduga berawal dari sebuah pasar di Wuhan, China. Tian, et al [1] melalui penelitiannya akan penyebaran virus ini di Beijing menemukan adanya kesamaan gejala yang sering dialami penderita berupa demam (82%), batuk (45.8%), kelelahan (26.3%), dyspnea (6.9%), dan sakit kepala (6.5%), dengan tingkat kematian yang cukup rendah. Masa inkubasi virus ini adalah sekitar 6.7 hari dengan median umur pasien yang terjangkit berada pada kisaran 47.5 tahun.<br><br>Benvenuto et al [2] melaporkan dari tekanan tertentu dan analisis struktural mutasi pada protein mengindikasikan tingkat infeksi dan pathogenitas yang lebih tinggi dari bat-coronavirus yang terisolasi pada tahun 2015 namun lebih rendah dari epidemi SARS dan transmisi secara zoonotic.\n",
    "Kesamaan cluster antara ocvid-19 dengan bat coronavirus yang terisolasi pada tahun 2015 mendukung hipotesis dimana transmisi berawal dari kelelawar. Ji et al [3] melalui penelitiannya terhadap pasien pasien awal covid-19 yang berada di lokasi Huanan Seafood Wholesale Supermarket menemukan kesamaan informasi genetis antara covid-19 dengan bat-coronavirus. Tidak hanya itu transmisi antar spesies terjadi diakibatkan rekombinasi homologus.Sebagai mikoorganisme parasit, kemiripan penggunaan kodon antara covid-19 dengan spesies ular di China yang lebih tinggi dari kelelawar mendukung kemungkinan bahwa salah satu sumber transmisi virus ini adalah spesies ular di China. Kedua argumen ini juga diperkuat melalui lokasi penyebaran covid-19 berawal dari pasar Huanan Seafood Wholesale Supermarket.<br><br>\n",
    "Kucharski et al [4] melalui kombinasi model transmisi stokastik dengan data pada kasus corona di wuhan dan kasus internasional yang berasal dari wuhan (Janurai – Februari 2020), menemukan bahwa bilangan reproduksi Rt menurun setelah diperkenalkan pengendalian perjalanan (Travel Restriction). Pogrebna, et al [5] menemukan bahwa mencuci tangan dengan sabun selama setidaknya 20 detik adalah salah satu langkah untuk mencegah penyebaran virus covid-19. Analisis regresi menunjukkan bahwa terdapat korelasi yang kuat antara budaya mencuci tangan (dengan ketentuan-ketentuan yang ditetapkan) dan besarnya penyebaran covid-19 di negara-negara berbeda. Setiap negara mempunyai budaya mencuci tangan masing-masing. ... mengatakan bahwa mencuci tangan adalah salah satu langkah yang direkomendasikan untuk mencegah penyebaran virus covid-19, tetapi karena keragaman budaya cuci tangan pada seluruh dunia maka untuk beberapa budaya dibutuhkan waktu yang cukup lama untuk beradaptasi terhadap protokol kebersihan baru covid-19. Penelitian di Beijing [1] juga mengungkapkan bahwa isolasi dan karantina menjadi salah satu upaya pencegahan penyebaran covid-19.<br><br>\n",
    "Dengan waktu yang cukup singkat, dibutuhkan model untuk memprediksi seberapa besar pengaruh virus dan berapa lama virus covid-19 akan berakhir. Tidak seperti sistem identifikasi di mesin dimana parameter pada model ditentukan menggunakan data real, pada outbreak, parameter duga menggunakan data real belum tersedia. Hu, et al [6] melalui metode realtime forecasting berdasarkan data dari WHO selama 11 Januari sampai 27 Februari 2020, memprediksi waktu provinsi/kota-kota memasuki masa stabil kurva transmisi yang dinamis bervariasi, mulai dari Januari 21 sampai April 2020. Dengan multi-step forecasting, dengan hasil rata-rata error dari 6- step, 7-step, 8-step, 9-step and 10-step forecasting masing-masing adalah 1.64%, 2.27%, 2.14%, 2.08%, 0.73%\n",
    "<br><br>\n",
    "[1]\tS. Tian et al., “Characteristics of COVID-19 infection in Beijing,” J. Infect., vol. 80, no. 4, pp. 401–406, 2020, doi: 10.1016/j.jinf.2020.02.018.<br>\n",
    "[2]\tD. Benvenuto, M. Giovanetti, A. Ciccozzi, S. Spoto, S. Angeletti, and M. Ciccozzi, “The 2019-new coronavirus epidemic: Evidence for virus evolution,” J. Med. Virol., vol. 92, no. 4, pp. 455–459, 2020, doi: 10.1002/jmv.25688.<br>\n",
    "[3]\tW. Ji, W. Wang, X. Zhao, J. Zai, and X. Li, “Cross-species transmission of the newly identified coronavirus 2019-nCoV,” J. Med. Virol., vol. 92, no. 4, pp. 433–440, 2020, doi: 10.1002/jmv.25682.<br>\n",
    "[4]\tA. J. Kucharski et al., “Early dynamics of transmission and control of COVID-19: a mathematical modelling study,” Lancet Infect. Dis., vol. 3099, no. 20, pp. 1–7, 2020, doi: 10.1016/s1473-3099(20)30144-4.<br>\n",
    "[5]\tG. Pogrebna and A. A. Kharlamov, “The Impact of Cross-Cultural Differences in Handwashing Patterns on the COVID-19 Outbreak Magnitude,” no. March, 2020, doi: 10.13140/RG.2.2.23764.96649.<br>\n",
    "[6]\tZ. Hu, Q. Ge, S. Li, L. Jin, and M. Xiong, “Artificial Intelligence Forecasting of Covid-19 in China,” pp. 1–20, 2020, [Online]. Available: http://arxiv.org/abs/2002.07112.<br>"
   ]
  }
 ],
 "metadata": {
  "kernelspec": {
   "display_name": "Python 3",
   "language": "python",
   "name": "python3"
  },
  "language_info": {
   "codemirror_mode": {
    "name": "ipython",
    "version": 3
   },
   "file_extension": ".py",
   "mimetype": "text/x-python",
   "name": "python",
   "nbconvert_exporter": "python",
   "pygments_lexer": "ipython3",
   "version": "3.8.1"
  }
 },
 "nbformat": 4,
 "nbformat_minor": 2
}

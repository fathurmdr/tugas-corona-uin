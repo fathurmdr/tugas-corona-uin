{
 "cells": [
  {
   "cell_type": "markdown",
   "metadata": {},
   "source": [
    "# Corona Virus Disease 2019 "
   ]
  },
  {
   "cell_type": "markdown",
   "metadata": {},
   "source": [
    "Covid-19 adalah virus yang pertama kali ditemukan pada tahun 2019, dimana penyebaraannya diduga berawal dari sebuah pasar di Wuhan, China. Tian, et al melalui penelitiannya akan penyebaran virus ini di Beijing menemukan adanya kesamaan gejala yang sering dialami penderita berupa demam (82%), batuk (45.8%), kelelahan (26.3%), dyspnea (6.9%), dan sakit kepala (6.5%), dengan tingkat kematian yang cukup rendah. Masa inkubasi virus ini adalah sekitar 6.7 hari dengan median umur pasien yang terjangkit berada pada kisaran 47.5 tahun. Benvenuto et al melaporkan dari tekanan tertentu dan analisis struktural mutasi pada protein mengindikasikan tingkat infeksi dan pathogenitas yang lebih tinggi dari bat-coronavirus yang terisolasi pada tahun 2015 namun lebih rendah dari epidemi SARS dan transmisi secara zoonotic.<br>\n",
    "Kesamaan cluster antara ocvid-19 dengan bat coronavirus yang terisolasi pada tahun 2015 mendukung hipotesis dimana transmisi berawal dari kelelawar. Ji et al melalui penelitiannya terhadap pasien pasien awal covid-19 yang berada di lokasi Huanan Seafood Wholesale Supermarket menemukan kesamaan informasi genetis antara covid-19 dengan bat-coronavirus. Tidak hanya itu transmisi antar spesies terjadi diakibatkan rekombinasi homologus.Sebagai mikoorganisme parasit, kemiripan penggunaan kodon antara covid-19 dengan spesies ular di China yang lebih tinggi dari kelelawar mendukung kemungkinan bahwa salah satu sumber transmisi virus ini adalah spesies ular di China. Kedua argumen ini juga diperkuat melalui lokasi penyebaran covid-19 berawal dari pasar Huanan Seafood Wholesale Supermarket.<br> \n",
    "Ji, et al melalui kombinasi model transmisi stokastik dengan data pada kasus corona di wuhan dan kasus internasional yang berasal dari wuhan (Janurai – Februari 2020), menemukan bahwa bilangan reproduksi Rt menurun setelah diperkenalkan pengendalian perjalanan (Travel Restriction). Pogrebna, et al menemukan bahwa mencuci tangan dengan sabun selama setidaknya 20 detik adalah salah satu langkah untuk mencegah penyebaran virus covid-19. Analisis regresi menunjukkan bahwa terdapat korelasi yang kuat antara budaya mencuci tangan (dengan ketentuan-ketentuan yang ditetapkan) dan besarnya penyebaran covid-19  di negara-negara berbeda. Setiap negara mempunyai budaya mencuci tangan masing-masing. ... mengatakan bahwa mencuci tangan adalah salah satu langkah yang direkomendasikan untuk mencegah penyebaran virus covid-19, tetapi karena keragaman budaya cuci tangan pada seluruh dunia maka untuk beberapa budaya dibutuhkan waktu yang cukup lama untuk beradaptasi terhadap protokol kebersihan baru covid-19. Penelitian di Beijing juga mengungkapkan bahwa isolasi dan karantina menjadi salah satu upaya pencegahan penyebaran covid-19.<br> \n",
    "Dengan waktu yang cukup singkat, dibutuhkan model untuk memprediksi seberapa besar pengaruh virus dan berapa lama virus covid-19 akan berakhir. Tidak seperti sistem identifikasi di mesin dimana parameter pada model ditentukan menggunakan data real, pada outbreak, parameter duga menggunakan data real belum tersedia. Hu, et al melalui metode realtime forecasting berdasarkan data dari WHO selama 11 Januari  sampai 27 Februari  2020, memprediksi waktu provinsi/kota-kota memasuki masa stabil kurva transmisi yang dinamis bervariasi, mulai dari Januari 21 sampai April 2020. Dengan multi-step forecasting, dengan hasil rata-rata error dari 6- step, 7-step, 8-step, 9-step and 10-step forecasting masing-masing adalah 1.64%, 2.27%, 2.14%, 2.08%, 0.73%."
   ]
  },
  {
   "cell_type": "markdown",
   "metadata": {},
   "source": [
    "-Tian, Sijia, et al. \"Characteristics of COVID-19 infection in Beijing.\" Journal of Infection (2020).<br>\n",
    "-Hu, Zixin et al \"Artificial Intelligence Forecasting of Covid-19 in China\" arXiv preprint arXiv:2002.07112 (2020).<br>\n",
    "-Benvenuto, Domenico, et al. \"The 2019‐new coronavirus epidemic: evidence for virus evolution.\" Journal of Medical Virology 92.4 (2020): 455-459. https://onlinelibrary.wiley.com/doi/epdf/10.1002/jmv.25688<br>\n",
    "-Pogrebna, G., Kharlamov, Alexander A, The Impact of Cross-Cultural Differences in\n",
    "Handwashing Patterns on the COVID-19 Outbreak Magnitude<br>\n",
    "-Jit, Mark, et al. \"Early dynamics of transmission and control of COVID-19: a mathematical modelling study.\"<br>\n",
    "-Ji, Wei, et al. \"Cross‐species transmission of the newly identified coronavirus 2019‐nCoV.\" Journal of Medical Virology 92.4 (2020): 433-440.<br>"
   ]
  },
  {
   "cell_type": "code",
   "execution_count": null,
   "metadata": {},
   "outputs": [],
   "source": []
  }
 ],
 "metadata": {
  "kernelspec": {
   "display_name": "Python 3",
   "language": "python",
   "name": "python3"
  },
  "language_info": {
   "codemirror_mode": {
    "name": "ipython",
    "version": 3
   },
   "file_extension": ".py",
   "mimetype": "text/x-python",
   "name": "python",
   "nbconvert_exporter": "python",
   "pygments_lexer": "ipython3",
   "version": "3.6.7"
  }
 },
 "nbformat": 4,
 "nbformat_minor": 2
}

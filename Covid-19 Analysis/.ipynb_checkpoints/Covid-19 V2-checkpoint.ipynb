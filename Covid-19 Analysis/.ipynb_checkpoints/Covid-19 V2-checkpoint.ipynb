{
 "cells": [
  {
   "cell_type": "markdown",
   "metadata": {},
   "source": [
    "# Tugas Data Mining - EDA\n",
    "## Kelompok 1 \n",
    "Anggota Kelompok:\n",
    "- Rahmawati (11160940000035)\n",
    "- Danny Yoga Alfarizki (11160940000049)\n",
    "- Wahyu Triwulan Asih (11160940000074)\n",
    "- Syihabudin Asy'ari (11160940000085)\n",
    "- Fathu Rahman (11170940000028)\n",
    "- Yulia Amandari (11170940000041)\n",
    "- Reza Khaerul I (11170940000044)\n",
    "- Ivansyah (11170940000047)\n",
    "- Hany Rahmanita (11170940000060)"
   ]
  },
  {
   "cell_type": "code",
   "execution_count": 1,
   "metadata": {},
   "outputs": [],
   "source": [
    "import pandas as pd\n",
    "import numpy as np\n",
    "from itertools import combinations\n",
    "from collections import Counter\n",
    "import matplotlib.pyplot as plt\n",
    "import seaborn as sns\n",
    "import datetime as dt\n",
    "import plotly.graph_objects as go\n",
    "import plotly.figure_factory as ff\n",
    "%matplotlib inline"
   ]
  },
  {
   "cell_type": "markdown",
   "metadata": {},
   "source": [
    "# Data 1 "
   ]
  },
  {
   "cell_type": "code",
   "execution_count": 2,
   "metadata": {},
   "outputs": [],
   "source": [
    "data1=pd.read_csv('data/covid_19_data.csv')"
   ]
  },
  {
   "cell_type": "code",
   "execution_count": 3,
   "metadata": {},
   "outputs": [
    {
     "data": {
      "text/html": [
       "<div>\n",
       "<style scoped>\n",
       "    .dataframe tbody tr th:only-of-type {\n",
       "        vertical-align: middle;\n",
       "    }\n",
       "\n",
       "    .dataframe tbody tr th {\n",
       "        vertical-align: top;\n",
       "    }\n",
       "\n",
       "    .dataframe thead th {\n",
       "        text-align: right;\n",
       "    }\n",
       "</style>\n",
       "<table border=\"1\" class=\"dataframe\">\n",
       "  <thead>\n",
       "    <tr style=\"text-align: right;\">\n",
       "      <th></th>\n",
       "      <th>Total</th>\n",
       "      <th>Percentage</th>\n",
       "    </tr>\n",
       "  </thead>\n",
       "  <tbody>\n",
       "    <tr>\n",
       "      <th>Province/State</th>\n",
       "      <td>6562</td>\n",
       "      <td>0.485032</td>\n",
       "    </tr>\n",
       "    <tr>\n",
       "      <th>Recovered</th>\n",
       "      <td>0</td>\n",
       "      <td>0.000000</td>\n",
       "    </tr>\n",
       "    <tr>\n",
       "      <th>Deaths</th>\n",
       "      <td>0</td>\n",
       "      <td>0.000000</td>\n",
       "    </tr>\n",
       "    <tr>\n",
       "      <th>Confirmed</th>\n",
       "      <td>0</td>\n",
       "      <td>0.000000</td>\n",
       "    </tr>\n",
       "    <tr>\n",
       "      <th>Last Update</th>\n",
       "      <td>0</td>\n",
       "      <td>0.000000</td>\n",
       "    </tr>\n",
       "    <tr>\n",
       "      <th>Country/Region</th>\n",
       "      <td>0</td>\n",
       "      <td>0.000000</td>\n",
       "    </tr>\n",
       "    <tr>\n",
       "      <th>ObservationDate</th>\n",
       "      <td>0</td>\n",
       "      <td>0.000000</td>\n",
       "    </tr>\n",
       "    <tr>\n",
       "      <th>SNo</th>\n",
       "      <td>0</td>\n",
       "      <td>0.000000</td>\n",
       "    </tr>\n",
       "  </tbody>\n",
       "</table>\n",
       "</div>"
      ],
      "text/plain": [
       "                 Total  Percentage\n",
       "Province/State    6562    0.485032\n",
       "Recovered            0    0.000000\n",
       "Deaths               0    0.000000\n",
       "Confirmed            0    0.000000\n",
       "Last Update          0    0.000000\n",
       "Country/Region       0    0.000000\n",
       "ObservationDate      0    0.000000\n",
       "SNo                  0    0.000000"
      ]
     },
     "execution_count": 3,
     "metadata": {},
     "output_type": "execute_result"
    }
   ],
   "source": [
    "total=data1.isnull().sum().sort_values(ascending=False)\n",
    "percentage=(data1.isnull().sum()/data1.isnull().count()).sort_values(ascending=False)\n",
    "miss_val=pd.concat([total,percentage],axis=1,keys=['Total','Percentage'])\n",
    "miss_val.head(20)"
   ]
  },
  {
   "cell_type": "code",
   "execution_count": 4,
   "metadata": {},
   "outputs": [],
   "source": [
    "data1.drop(columns=miss_val[miss_val['Percentage']>=0.4].index,inplace=True)\n",
    "data1.drop(columns='SNo',inplace=True)"
   ]
  },
  {
   "cell_type": "code",
   "execution_count": 5,
   "metadata": {},
   "outputs": [],
   "source": [
    "data1.ObservationDate=data1.ObservationDate.astype('datetime64')\n",
    "data1['Last Update']=data1['Last Update'].astype('datetime64')"
   ]
  },
  {
   "cell_type": "code",
   "execution_count": 6,
   "metadata": {},
   "outputs": [
    {
     "data": {
      "text/html": [
       "<div>\n",
       "<style scoped>\n",
       "    .dataframe tbody tr th:only-of-type {\n",
       "        vertical-align: middle;\n",
       "    }\n",
       "\n",
       "    .dataframe tbody tr th {\n",
       "        vertical-align: top;\n",
       "    }\n",
       "\n",
       "    .dataframe thead th {\n",
       "        text-align: right;\n",
       "    }\n",
       "</style>\n",
       "<table border=\"1\" class=\"dataframe\">\n",
       "  <thead>\n",
       "    <tr style=\"text-align: right;\">\n",
       "      <th></th>\n",
       "      <th>ObservationDate</th>\n",
       "      <th>Country/Region</th>\n",
       "      <th>Last Update</th>\n",
       "      <th>Confirmed</th>\n",
       "      <th>Deaths</th>\n",
       "      <th>Recovered</th>\n",
       "    </tr>\n",
       "  </thead>\n",
       "  <tbody>\n",
       "    <tr>\n",
       "      <th>0</th>\n",
       "      <td>2020-01-22</td>\n",
       "      <td>Mainland China</td>\n",
       "      <td>2020-01-22 17:00:00</td>\n",
       "      <td>1.0</td>\n",
       "      <td>0.0</td>\n",
       "      <td>0.0</td>\n",
       "    </tr>\n",
       "    <tr>\n",
       "      <th>1</th>\n",
       "      <td>2020-01-22</td>\n",
       "      <td>Mainland China</td>\n",
       "      <td>2020-01-22 17:00:00</td>\n",
       "      <td>14.0</td>\n",
       "      <td>0.0</td>\n",
       "      <td>0.0</td>\n",
       "    </tr>\n",
       "    <tr>\n",
       "      <th>2</th>\n",
       "      <td>2020-01-22</td>\n",
       "      <td>Mainland China</td>\n",
       "      <td>2020-01-22 17:00:00</td>\n",
       "      <td>6.0</td>\n",
       "      <td>0.0</td>\n",
       "      <td>0.0</td>\n",
       "    </tr>\n",
       "    <tr>\n",
       "      <th>3</th>\n",
       "      <td>2020-01-22</td>\n",
       "      <td>Mainland China</td>\n",
       "      <td>2020-01-22 17:00:00</td>\n",
       "      <td>1.0</td>\n",
       "      <td>0.0</td>\n",
       "      <td>0.0</td>\n",
       "    </tr>\n",
       "    <tr>\n",
       "      <th>4</th>\n",
       "      <td>2020-01-22</td>\n",
       "      <td>Mainland China</td>\n",
       "      <td>2020-01-22 17:00:00</td>\n",
       "      <td>0.0</td>\n",
       "      <td>0.0</td>\n",
       "      <td>0.0</td>\n",
       "    </tr>\n",
       "  </tbody>\n",
       "</table>\n",
       "</div>"
      ],
      "text/plain": [
       "  ObservationDate  Country/Region         Last Update  Confirmed  Deaths  \\\n",
       "0      2020-01-22  Mainland China 2020-01-22 17:00:00        1.0     0.0   \n",
       "1      2020-01-22  Mainland China 2020-01-22 17:00:00       14.0     0.0   \n",
       "2      2020-01-22  Mainland China 2020-01-22 17:00:00        6.0     0.0   \n",
       "3      2020-01-22  Mainland China 2020-01-22 17:00:00        1.0     0.0   \n",
       "4      2020-01-22  Mainland China 2020-01-22 17:00:00        0.0     0.0   \n",
       "\n",
       "   Recovered  \n",
       "0        0.0  \n",
       "1        0.0  \n",
       "2        0.0  \n",
       "3        0.0  \n",
       "4        0.0  "
      ]
     },
     "execution_count": 6,
     "metadata": {},
     "output_type": "execute_result"
    }
   ],
   "source": [
    "data1.head()"
   ]
  },
  {
   "cell_type": "markdown",
   "metadata": {},
   "source": [
    "Data diatas merupakan data jumlah kasus, kesembuhan dan kematian baru per harinya dari seluruh dunia"
   ]
  },
  {
   "cell_type": "code",
   "execution_count": 7,
   "metadata": {},
   "outputs": [
    {
     "data": {
      "image/png": "[encoded data removed]",
      "text/plain": [
       "<Figure size 504x504 with 1 Axes>"
      ]
     },
     "metadata": {},
     "output_type": "display_data"
    }
   ],
   "source": [
    "plt.subplots(figsize=(7,7))\n",
    "alyze=data1[['Confirmed','Deaths','Recovered']].sum()\n",
    "alyze['Confirmed']=alyze['Confirmed']-alyze['Deaths']-alyze['Recovered']\n",
    "plt.pie(alyze,autopct='%1.01f%%',colors=['yellow','red','green'])\n",
    "plt.legend(labels=['Sick','Deaths','Recovered'])\n",
    "plt.show()"
   ]
  },
  {
   "cell_type": "markdown",
   "metadata": {},
   "source": [
    "Dari akumulasi jumlah kasus dapat kita lihat perbandingan jumlah kasus terkonfirmasi, kesembuhan dan kematian. Visualisasi diatas menunjukan bahwa persentase kematian dari kasus COVID-19 tidaklah besar kurang lebih sekitar 5%, jauh lebih kecil dari persentase kesembuhan 25%. Namun bagaimana dengan perkembangan Covid-19 sejauh ini...."
   ]
  },
  {
   "cell_type": "code",
   "execution_count": 8,
   "metadata": {},
   "outputs": [
    {
     "data": {
      "text/html": [
       "<div>\n",
       "<style scoped>\n",
       "    .dataframe tbody tr th:only-of-type {\n",
       "        vertical-align: middle;\n",
       "    }\n",
       "\n",
       "    .dataframe tbody tr th {\n",
       "        vertical-align: top;\n",
       "    }\n",
       "\n",
       "    .dataframe thead th {\n",
       "        text-align: right;\n",
       "    }\n",
       "</style>\n",
       "<table border=\"1\" class=\"dataframe\">\n",
       "  <thead>\n",
       "    <tr style=\"text-align: right;\">\n",
       "      <th></th>\n",
       "      <th>Confirmed</th>\n",
       "      <th>Deaths</th>\n",
       "      <th>Recovered</th>\n",
       "    </tr>\n",
       "  </thead>\n",
       "  <tbody>\n",
       "    <tr>\n",
       "      <th>count</th>\n",
       "      <td>7.900000e+01</td>\n",
       "      <td>79.000000</td>\n",
       "      <td>79.000000</td>\n",
       "    </tr>\n",
       "    <tr>\n",
       "      <th>mean</th>\n",
       "      <td>2.784079e+05</td>\n",
       "      <td>13503.063291</td>\n",
       "      <td>69417.088608</td>\n",
       "    </tr>\n",
       "    <tr>\n",
       "      <th>std</th>\n",
       "      <td>4.074517e+05</td>\n",
       "      <td>22937.348849</td>\n",
       "      <td>85010.073783</td>\n",
       "    </tr>\n",
       "    <tr>\n",
       "      <th>min</th>\n",
       "      <td>5.550000e+02</td>\n",
       "      <td>17.000000</td>\n",
       "      <td>28.000000</td>\n",
       "    </tr>\n",
       "    <tr>\n",
       "      <th>25%</th>\n",
       "      <td>4.378300e+04</td>\n",
       "      <td>1063.000000</td>\n",
       "      <td>4314.500000</td>\n",
       "    </tr>\n",
       "    <tr>\n",
       "      <th>50%</th>\n",
       "      <td>8.837100e+04</td>\n",
       "      <td>2996.000000</td>\n",
       "      <td>42716.000000</td>\n",
       "    </tr>\n",
       "    <tr>\n",
       "      <th>75%</th>\n",
       "      <td>2.883580e+05</td>\n",
       "      <td>12136.000000</td>\n",
       "      <td>89539.500000</td>\n",
       "    </tr>\n",
       "    <tr>\n",
       "      <th>max</th>\n",
       "      <td>1.595350e+06</td>\n",
       "      <td>95455.000000</td>\n",
       "      <td>353975.000000</td>\n",
       "    </tr>\n",
       "  </tbody>\n",
       "</table>\n",
       "</div>"
      ],
      "text/plain": [
       "          Confirmed        Deaths      Recovered\n",
       "count  7.900000e+01     79.000000      79.000000\n",
       "mean   2.784079e+05  13503.063291   69417.088608\n",
       "std    4.074517e+05  22937.348849   85010.073783\n",
       "min    5.550000e+02     17.000000      28.000000\n",
       "25%    4.378300e+04   1063.000000    4314.500000\n",
       "50%    8.837100e+04   2996.000000   42716.000000\n",
       "75%    2.883580e+05  12136.000000   89539.500000\n",
       "max    1.595350e+06  95455.000000  353975.000000"
      ]
     },
     "execution_count": 8,
     "metadata": {},
     "output_type": "execute_result"
    }
   ],
   "source": [
    "data1.groupby('ObservationDate').sum().describe()"
   ]
  },
  {
   "cell_type": "code",
   "execution_count": 75,
   "metadata": {},
   "outputs": [
    {
     "data": {
      "text/plain": [
       "Text(0.5, 1.0, 'Growth of Covid-19 in World')"
      ]
     },
     "execution_count": 75,
     "metadata": {},
     "output_type": "execute_result"
    },
    {
     "data": {
      "text/plain": [
       "<Figure size 432x288 with 0 Axes>"
      ]
     },
     "metadata": {},
     "output_type": "display_data"
    },
    {
     "data": {
      "image/png": "[encoded data removed]",
      "text/plain": [
       "<Figure size 432x288 with 1 Axes>"
      ]
     },
     "metadata": {
      "needs_background": "light"
     },
     "output_type": "display_data"
    }
   ],
   "source": [
    "data1.groupby('ObservationDate').sum().plot()\n",
    "plt.title('Growth of Covid-19 in World')"
   ]
  },
  {
   "cell_type": "markdown",
   "metadata": {},
   "source": [
    "Terlihat dari data diatas meskipun sebelumnya kita telah mengetahui bahwa tingkat kematian cukup kecil(5%) namun tidak dapat dipungkiri penyebaran virus corona masih berkembang sangat pesat perharinya bahkan mencapai angka 1600000 kasus dalam satu hari di seluruh dunia. Lalu negara mana saja yang sudah terinfeksi cukup besar ???"
   ]
  },
  {
   "cell_type": "code",
   "execution_count": 9,
   "metadata": {},
   "outputs": [
    {
     "data": {
      "text/plain": [
       "<matplotlib.axes._subplots.AxesSubplot at 0x12c1181a0d0>"
      ]
     },
     "execution_count": 9,
     "metadata": {},
     "output_type": "execute_result"
    },
    {
     "data": {
      "image/png": "[encoded data removed]",
      "text/plain": [
       "<Figure size 432x288 with 1 Axes>"
      ]
     },
     "metadata": {
      "needs_background": "light"
     },
     "output_type": "display_data"
    }
   ],
   "source": [
    "data1.groupby('Country/Region').Confirmed.sum().sort_values(ascending=False).head().plot(kind='bar')"
   ]
  },
  {
   "cell_type": "markdown",
   "metadata": {},
   "source": [
    "Tidak dapat dipungkiri China sebagai tempat awal berkembangnya virus corona menjadi negara dengan kasus terbanyak. Negara negara lainnya terdapat yaitu Amerika Serikat yang hampir menyamai China, lalu disusul oleh italia, spanyol dan jerman. Dari 3 negara terbesar tersebut kita akan lihat perkembangan virus disana."
   ]
  },
  {
   "cell_type": "code",
   "execution_count": 10,
   "metadata": {},
   "outputs": [
    {
     "data": {
      "image/png": "[encoded data removed]",
      "text/plain": [
       "<Figure size 432x288 with 1 Axes>"
      ]
     },
     "metadata": {
      "needs_background": "light"
     },
     "output_type": "display_data"
    }
   ],
   "source": [
    "data1[data1['Country/Region']=='Mainland China'].groupby('ObservationDate').sum().plot()\n",
    "plt.title('Growth of Covid-19 in China')\n",
    "plt.show()"
   ]
  },
  {
   "cell_type": "code",
   "execution_count": 11,
   "metadata": {},
   "outputs": [
    {
     "data": {
      "image/png": "[encoded data removed]",
      "text/plain": [
       "<Figure size 432x288 with 1 Axes>"
      ]
     },
     "metadata": {
      "needs_background": "light"
     },
     "output_type": "display_data"
    }
   ],
   "source": [
    "data1[data1['Country/Region']=='US'].groupby('ObservationDate').sum().plot()\n",
    "plt.title('Growth of Covid-19 in US')\n",
    "plt.show()"
   ]
  },
  {
   "cell_type": "code",
   "execution_count": 12,
   "metadata": {},
   "outputs": [
    {
     "data": {
      "image/png": "[encoded data removed]",
      "text/plain": [
       "<Figure size 432x288 with 1 Axes>"
      ]
     },
     "metadata": {
      "needs_background": "light"
     },
     "output_type": "display_data"
    }
   ],
   "source": [
    "data1[data1['Country/Region']=='Italy'].groupby('ObservationDate').sum().plot()\n",
    "plt.title('Growth of Covid-19 in Italy')\n",
    "plt.show()"
   ]
  },
  {
   "cell_type": "markdown",
   "metadata": {},
   "source": [
    "Data Amerika Serikat dan Italia menunjukan perkembangan pesat yang jika dilihat secara kasat mata tidak jauh berbeda dengan perkembangan data dari seluruh dunia. Namun dari data China terlihat bahwa jumlah kasus baru sudah cenderung stabil, tidak hanya itu angka kesembuhan juga turut meningkat dan mulai mengimbangi jumlah kasus baru, tingkat kematian pun cenderung stabil rendah. Ini mengindikasikan adanya kemungkinan bahwa China sudah menerapkan penanggulangan  kasus Covid-19 yang cukup efektif dan periode wabah Covid-19 pada negara tersebut sudah pada masa akhirnya."
   ]
  },
  {
   "cell_type": "markdown",
   "metadata": {},
   "source": [
    "# Data 2"
   ]
  },
  {
   "cell_type": "code",
   "execution_count": 13,
   "metadata": {},
   "outputs": [],
   "source": [
    "data2=pd.read_csv('data/COVID19_line_list_data.csv')"
   ]
  },
  {
   "cell_type": "code",
   "execution_count": 14,
   "metadata": {},
   "outputs": [
    {
     "data": {
      "text/html": [
       "<div>\n",
       "<style scoped>\n",
       "    .dataframe tbody tr th:only-of-type {\n",
       "        vertical-align: middle;\n",
       "    }\n",
       "\n",
       "    .dataframe tbody tr th {\n",
       "        vertical-align: top;\n",
       "    }\n",
       "\n",
       "    .dataframe thead th {\n",
       "        text-align: right;\n",
       "    }\n",
       "</style>\n",
       "<table border=\"1\" class=\"dataframe\">\n",
       "  <thead>\n",
       "    <tr style=\"text-align: right;\">\n",
       "      <th></th>\n",
       "      <th>Total</th>\n",
       "      <th>Percentage</th>\n",
       "    </tr>\n",
       "  </thead>\n",
       "  <tbody>\n",
       "    <tr>\n",
       "      <th>Unnamed: 26</th>\n",
       "      <td>1085</td>\n",
       "      <td>1.000000</td>\n",
       "    </tr>\n",
       "    <tr>\n",
       "      <th>Unnamed: 25</th>\n",
       "      <td>1085</td>\n",
       "      <td>1.000000</td>\n",
       "    </tr>\n",
       "    <tr>\n",
       "      <th>Unnamed: 24</th>\n",
       "      <td>1085</td>\n",
       "      <td>1.000000</td>\n",
       "    </tr>\n",
       "    <tr>\n",
       "      <th>Unnamed: 23</th>\n",
       "      <td>1085</td>\n",
       "      <td>1.000000</td>\n",
       "    </tr>\n",
       "    <tr>\n",
       "      <th>Unnamed: 22</th>\n",
       "      <td>1085</td>\n",
       "      <td>1.000000</td>\n",
       "    </tr>\n",
       "    <tr>\n",
       "      <th>Unnamed: 21</th>\n",
       "      <td>1085</td>\n",
       "      <td>1.000000</td>\n",
       "    </tr>\n",
       "    <tr>\n",
       "      <th>Unnamed: 3</th>\n",
       "      <td>1085</td>\n",
       "      <td>1.000000</td>\n",
       "    </tr>\n",
       "    <tr>\n",
       "      <th>exposure_start</th>\n",
       "      <td>957</td>\n",
       "      <td>0.882028</td>\n",
       "    </tr>\n",
       "    <tr>\n",
       "      <th>symptom</th>\n",
       "      <td>815</td>\n",
       "      <td>0.751152</td>\n",
       "    </tr>\n",
       "    <tr>\n",
       "      <th>exposure_end</th>\n",
       "      <td>744</td>\n",
       "      <td>0.685714</td>\n",
       "    </tr>\n",
       "    <tr>\n",
       "      <th>hosp_visit_date</th>\n",
       "      <td>578</td>\n",
       "      <td>0.532719</td>\n",
       "    </tr>\n",
       "    <tr>\n",
       "      <th>If_onset_approximated</th>\n",
       "      <td>525</td>\n",
       "      <td>0.483871</td>\n",
       "    </tr>\n",
       "    <tr>\n",
       "      <th>symptom_onset</th>\n",
       "      <td>522</td>\n",
       "      <td>0.481106</td>\n",
       "    </tr>\n",
       "    <tr>\n",
       "      <th>age</th>\n",
       "      <td>242</td>\n",
       "      <td>0.223041</td>\n",
       "    </tr>\n",
       "    <tr>\n",
       "      <th>case_in_country</th>\n",
       "      <td>197</td>\n",
       "      <td>0.181567</td>\n",
       "    </tr>\n",
       "    <tr>\n",
       "      <th>gender</th>\n",
       "      <td>183</td>\n",
       "      <td>0.168664</td>\n",
       "    </tr>\n",
       "    <tr>\n",
       "      <th>summary</th>\n",
       "      <td>5</td>\n",
       "      <td>0.004608</td>\n",
       "    </tr>\n",
       "    <tr>\n",
       "      <th>from Wuhan</th>\n",
       "      <td>4</td>\n",
       "      <td>0.003687</td>\n",
       "    </tr>\n",
       "    <tr>\n",
       "      <th>reporting date</th>\n",
       "      <td>1</td>\n",
       "      <td>0.000922</td>\n",
       "    </tr>\n",
       "    <tr>\n",
       "      <th>location</th>\n",
       "      <td>0</td>\n",
       "      <td>0.000000</td>\n",
       "    </tr>\n",
       "    <tr>\n",
       "      <th>link</th>\n",
       "      <td>0</td>\n",
       "      <td>0.000000</td>\n",
       "    </tr>\n",
       "    <tr>\n",
       "      <th>death</th>\n",
       "      <td>0</td>\n",
       "      <td>0.000000</td>\n",
       "    </tr>\n",
       "    <tr>\n",
       "      <th>country</th>\n",
       "      <td>0</td>\n",
       "      <td>0.000000</td>\n",
       "    </tr>\n",
       "    <tr>\n",
       "      <th>source</th>\n",
       "      <td>0</td>\n",
       "      <td>0.000000</td>\n",
       "    </tr>\n",
       "    <tr>\n",
       "      <th>recovered</th>\n",
       "      <td>0</td>\n",
       "      <td>0.000000</td>\n",
       "    </tr>\n",
       "    <tr>\n",
       "      <th>visiting Wuhan</th>\n",
       "      <td>0</td>\n",
       "      <td>0.000000</td>\n",
       "    </tr>\n",
       "    <tr>\n",
       "      <th>id</th>\n",
       "      <td>0</td>\n",
       "      <td>0.000000</td>\n",
       "    </tr>\n",
       "  </tbody>\n",
       "</table>\n",
       "</div>"
      ],
      "text/plain": [
       "                       Total  Percentage\n",
       "Unnamed: 26             1085    1.000000\n",
       "Unnamed: 25             1085    1.000000\n",
       "Unnamed: 24             1085    1.000000\n",
       "Unnamed: 23             1085    1.000000\n",
       "Unnamed: 22             1085    1.000000\n",
       "Unnamed: 21             1085    1.000000\n",
       "Unnamed: 3              1085    1.000000\n",
       "exposure_start           957    0.882028\n",
       "symptom                  815    0.751152\n",
       "exposure_end             744    0.685714\n",
       "hosp_visit_date          578    0.532719\n",
       "If_onset_approximated    525    0.483871\n",
       "symptom_onset            522    0.481106\n",
       "age                      242    0.223041\n",
       "case_in_country          197    0.181567\n",
       "gender                   183    0.168664\n",
       "summary                    5    0.004608\n",
       "from Wuhan                 4    0.003687\n",
       "reporting date             1    0.000922\n",
       "location                   0    0.000000\n",
       "link                       0    0.000000\n",
       "death                      0    0.000000\n",
       "country                    0    0.000000\n",
       "source                     0    0.000000\n",
       "recovered                  0    0.000000\n",
       "visiting Wuhan             0    0.000000\n",
       "id                         0    0.000000"
      ]
     },
     "execution_count": 14,
     "metadata": {},
     "output_type": "execute_result"
    }
   ],
   "source": [
    "total=data2.isnull().sum().sort_values(ascending=False)\n",
    "percentage=(data2.isnull().sum()/data2.isnull().count()).sort_values(ascending=False)\n",
    "miss_val=pd.concat([total,percentage],axis=1,keys=['Total','Percentage'])\n",
    "miss_val"
   ]
  },
  {
   "cell_type": "code",
   "execution_count": 15,
   "metadata": {},
   "outputs": [
    {
     "data": {
      "text/plain": [
       "Index(['id', 'case_in_country', 'reporting date', 'summary', 'location',\n",
       "       'country', 'gender', 'age', 'symptom_onset', 'If_onset_approximated',\n",
       "       'hosp_visit_date', 'exposure_start', 'exposure_end', 'visiting Wuhan',\n",
       "       'from Wuhan', 'death', 'recovered', 'symptom', 'source', 'link'],\n",
       "      dtype='object')"
      ]
     },
     "execution_count": 15,
     "metadata": {},
     "output_type": "execute_result"
    }
   ],
   "source": [
    "data2.drop(columns=miss_val[miss_val['Percentage']>=0.9].index,inplace=True)\n",
    "data2.columns"
   ]
  },
  {
   "cell_type": "code",
   "execution_count": 16,
   "metadata": {
    "scrolled": true
   },
   "outputs": [
    {
     "data": {
      "text/html": [
       "<div>\n",
       "<style scoped>\n",
       "    .dataframe tbody tr th:only-of-type {\n",
       "        vertical-align: middle;\n",
       "    }\n",
       "\n",
       "    .dataframe tbody tr th {\n",
       "        vertical-align: top;\n",
       "    }\n",
       "\n",
       "    .dataframe thead th {\n",
       "        text-align: right;\n",
       "    }\n",
       "</style>\n",
       "<table border=\"1\" class=\"dataframe\">\n",
       "  <thead>\n",
       "    <tr style=\"text-align: right;\">\n",
       "      <th></th>\n",
       "      <th>id</th>\n",
       "      <th>case_in_country</th>\n",
       "      <th>reporting date</th>\n",
       "      <th>summary</th>\n",
       "      <th>location</th>\n",
       "      <th>country</th>\n",
       "      <th>gender</th>\n",
       "      <th>age</th>\n",
       "      <th>symptom_onset</th>\n",
       "      <th>If_onset_approximated</th>\n",
       "      <th>hosp_visit_date</th>\n",
       "      <th>exposure_start</th>\n",
       "      <th>exposure_end</th>\n",
       "      <th>visiting Wuhan</th>\n",
       "      <th>from Wuhan</th>\n",
       "      <th>death</th>\n",
       "      <th>recovered</th>\n",
       "      <th>symptom</th>\n",
       "      <th>source</th>\n",
       "      <th>link</th>\n",
       "    </tr>\n",
       "  </thead>\n",
       "  <tbody>\n",
       "    <tr>\n",
       "      <th>424</th>\n",
       "      <td>425</td>\n",
       "      <td>189.0</td>\n",
       "      <td>2/27/2020</td>\n",
       "      <td>new confirmed COVID-19 patient in Japan: Nagoy...</td>\n",
       "      <td>Nagoya City</td>\n",
       "      <td>Japan</td>\n",
       "      <td>female</td>\n",
       "      <td>65.0</td>\n",
       "      <td>2/26/2020</td>\n",
       "      <td>0.0</td>\n",
       "      <td>2/26/2020</td>\n",
       "      <td>NaN</td>\n",
       "      <td>NaN</td>\n",
       "      <td>0</td>\n",
       "      <td>0.0</td>\n",
       "      <td>0</td>\n",
       "      <td>0</td>\n",
       "      <td>fever</td>\n",
       "      <td>Ministry of Health</td>\n",
       "      <td>https://www.mhlw.go.jp/stf/houdou/houdou_list_...</td>\n",
       "    </tr>\n",
       "    <tr>\n",
       "      <th>1041</th>\n",
       "      <td>1042</td>\n",
       "      <td>9.0</td>\n",
       "      <td>2/21/2020</td>\n",
       "      <td>new confirmed COVID-19 patient in Iran: Qom</td>\n",
       "      <td>Qom</td>\n",
       "      <td>Iran</td>\n",
       "      <td>NaN</td>\n",
       "      <td>NaN</td>\n",
       "      <td>NaN</td>\n",
       "      <td>NaN</td>\n",
       "      <td>NaN</td>\n",
       "      <td>NaN</td>\n",
       "      <td>NaN</td>\n",
       "      <td>0</td>\n",
       "      <td>0.0</td>\n",
       "      <td>0</td>\n",
       "      <td>0</td>\n",
       "      <td>NaN</td>\n",
       "      <td>Iran Ministry of Health</td>\n",
       "      <td>http://behdasht.gov.ir/news/%DA%A9%D8%B1%D9%88...</td>\n",
       "    </tr>\n",
       "    <tr>\n",
       "      <th>1022</th>\n",
       "      <td>1023</td>\n",
       "      <td>27.0</td>\n",
       "      <td>2/28/2020</td>\n",
       "      <td>new confirmed COVID-19 patient in Spain: Andal...</td>\n",
       "      <td>Andalusia</td>\n",
       "      <td>Spain</td>\n",
       "      <td>male</td>\n",
       "      <td>42.0</td>\n",
       "      <td>NaN</td>\n",
       "      <td>NaN</td>\n",
       "      <td>NaN</td>\n",
       "      <td>NaN</td>\n",
       "      <td>NaN</td>\n",
       "      <td>0</td>\n",
       "      <td>0.0</td>\n",
       "      <td>0</td>\n",
       "      <td>0</td>\n",
       "      <td>NaN</td>\n",
       "      <td>The Local</td>\n",
       "      <td>https://www.thelocal.es/20200228/covid-19-what...</td>\n",
       "    </tr>\n",
       "    <tr>\n",
       "      <th>618</th>\n",
       "      <td>619</td>\n",
       "      <td>76.0</td>\n",
       "      <td>2/20/2020</td>\n",
       "      <td>new confirmed COVID-19 patient in South Korea:...</td>\n",
       "      <td>South Korea</td>\n",
       "      <td>South Korea</td>\n",
       "      <td>male</td>\n",
       "      <td>36.0</td>\n",
       "      <td>NaN</td>\n",
       "      <td>NaN</td>\n",
       "      <td>NaN</td>\n",
       "      <td>NaN</td>\n",
       "      <td>NaN</td>\n",
       "      <td>0</td>\n",
       "      <td>0.0</td>\n",
       "      <td>0</td>\n",
       "      <td>0</td>\n",
       "      <td>NaN</td>\n",
       "      <td>KCDC</td>\n",
       "      <td>https://www.cdc.go.kr/board/board.es?mid=a3040...</td>\n",
       "    </tr>\n",
       "    <tr>\n",
       "      <th>942</th>\n",
       "      <td>943</td>\n",
       "      <td>72.0</td>\n",
       "      <td>2/23/2020</td>\n",
       "      <td>new confirmed COVID-19 patient in Hong Kong: m...</td>\n",
       "      <td>Hong Kong</td>\n",
       "      <td>Hong Kong</td>\n",
       "      <td>male</td>\n",
       "      <td>62.0</td>\n",
       "      <td>02/10/20</td>\n",
       "      <td>0.0</td>\n",
       "      <td>2/22/2020</td>\n",
       "      <td>NaN</td>\n",
       "      <td>NaN</td>\n",
       "      <td>0</td>\n",
       "      <td>0.0</td>\n",
       "      <td>0</td>\n",
       "      <td>0</td>\n",
       "      <td>NaN</td>\n",
       "      <td>Government HK</td>\n",
       "      <td>https://www.dh.gov.hk/textonly/eindex.html</td>\n",
       "    </tr>\n",
       "  </tbody>\n",
       "</table>\n",
       "</div>"
      ],
      "text/plain": [
       "        id  case_in_country reporting date  \\\n",
       "424    425            189.0      2/27/2020   \n",
       "1041  1042              9.0      2/21/2020   \n",
       "1022  1023             27.0      2/28/2020   \n",
       "618    619             76.0      2/20/2020   \n",
       "942    943             72.0      2/23/2020   \n",
       "\n",
       "                                                summary     location  \\\n",
       "424   new confirmed COVID-19 patient in Japan: Nagoy...  Nagoya City   \n",
       "1041        new confirmed COVID-19 patient in Iran: Qom          Qom   \n",
       "1022  new confirmed COVID-19 patient in Spain: Andal...    Andalusia   \n",
       "618   new confirmed COVID-19 patient in South Korea:...  South Korea   \n",
       "942   new confirmed COVID-19 patient in Hong Kong: m...    Hong Kong   \n",
       "\n",
       "          country  gender   age symptom_onset  If_onset_approximated  \\\n",
       "424         Japan  female  65.0     2/26/2020                    0.0   \n",
       "1041         Iran     NaN   NaN           NaN                    NaN   \n",
       "1022        Spain    male  42.0           NaN                    NaN   \n",
       "618   South Korea    male  36.0           NaN                    NaN   \n",
       "942     Hong Kong    male  62.0      02/10/20                    0.0   \n",
       "\n",
       "     hosp_visit_date exposure_start exposure_end  visiting Wuhan  from Wuhan  \\\n",
       "424        2/26/2020            NaN          NaN               0         0.0   \n",
       "1041             NaN            NaN          NaN               0         0.0   \n",
       "1022             NaN            NaN          NaN               0         0.0   \n",
       "618              NaN            NaN          NaN               0         0.0   \n",
       "942        2/22/2020            NaN          NaN               0         0.0   \n",
       "\n",
       "     death recovered symptom                   source  \\\n",
       "424      0         0   fever       Ministry of Health   \n",
       "1041     0         0     NaN  Iran Ministry of Health   \n",
       "1022     0         0     NaN                The Local   \n",
       "618      0         0     NaN                     KCDC   \n",
       "942      0         0     NaN            Government HK   \n",
       "\n",
       "                                                   link  \n",
       "424   https://www.mhlw.go.jp/stf/houdou/houdou_list_...  \n",
       "1041  http://behdasht.gov.ir/news/%DA%A9%D8%B1%D9%88...  \n",
       "1022  https://www.thelocal.es/20200228/covid-19-what...  \n",
       "618   https://www.cdc.go.kr/board/board.es?mid=a3040...  \n",
       "942          https://www.dh.gov.hk/textonly/eindex.html  "
      ]
     },
     "execution_count": 16,
     "metadata": {},
     "output_type": "execute_result"
    }
   ],
   "source": [
    "data2.sample(5)"
   ]
  },
  {
   "cell_type": "code",
   "execution_count": 17,
   "metadata": {},
   "outputs": [],
   "source": [
    "data2['Have_Visit_Wuhan']=data2['visiting Wuhan']+data2['from Wuhan']"
   ]
  },
  {
   "cell_type": "code",
   "execution_count": 18,
   "metadata": {},
   "outputs": [],
   "source": [
    "data2.loc[data2['Have_Visit_Wuhan'].isnull()==True,'Have_Visit_Wuhan']=data2.loc[data2['Have_Visit_Wuhan'].isnull()==True,'visiting Wuhan']\n",
    "data2.loc[data2['Have_Visit_Wuhan']==2,'Have_Visit_Wuhan']=1"
   ]
  },
  {
   "cell_type": "code",
   "execution_count": 20,
   "metadata": {},
   "outputs": [
    {
     "data": {
      "text/plain": [
       "<matplotlib.axes._subplots.AxesSubplot at 0x12c11b0fdc0>"
      ]
     },
     "execution_count": 20,
     "metadata": {},
     "output_type": "execute_result"
    },
    {
     "data": {
      "image/png": "[encoded data removed]",
      "text/plain": [
       "<Figure size 432x288 with 1 Axes>"
      ]
     },
     "metadata": {
      "needs_background": "light"
     },
     "output_type": "display_data"
    }
   ],
   "source": [
    "data2.source.value_counts().sort_values(ascending=False).head().plot(kind='bar')"
   ]
  },
  {
   "cell_type": "markdown",
   "metadata": {},
   "source": [
    "Sumber informasi pada data ini berasal dari Ministry of Health"
   ]
  },
  {
   "cell_type": "code",
   "execution_count": 21,
   "metadata": {},
   "outputs": [
    {
     "data": {
      "image/png": "[encoded data removed]",
      "text/plain": [
       "<Figure size 432x432 with 1 Axes>"
      ]
     },
     "metadata": {},
     "output_type": "display_data"
    }
   ],
   "source": [
    "plt.subplots(figsize=(6,6))\n",
    "plt.pie(data2['Have_Visit_Wuhan'].value_counts(),autopct='%1.01f%%')\n",
    "plt.legend(labels=['Visit Wuhan','Not Visit Wuhan'])\n",
    "plt.show()"
   ]
  },
  {
   "cell_type": "markdown",
   "metadata": {},
   "source": [
    "Pasien yang dilaporkan lebih banyak yang sudah mengunjungi Wuhan. Ini mengindikasikan bahwa Wuhan menjadi sumber penyebaran Covid-19. Lalu bagaimana dengan karakteristik Covid-19 sendiri ? "
   ]
  },
  {
   "cell_type": "code",
   "execution_count": 22,
   "metadata": {},
   "outputs": [
    {
     "data": {
      "image/png": "[encoded data removed]",
      "text/plain": [
       "<Figure size 934.5x216 with 1 Axes>"
      ]
     },
     "metadata": {
      "needs_background": "light"
     },
     "output_type": "display_data"
    }
   ],
   "source": [
    "fig = sns.FacetGrid(data2,hue='gender',aspect=4)\n",
    "fig.map(sns.kdeplot, 'age', shade=True)\n",
    "oldest = data2['age'].max()\n",
    "fig.set(xlim=(0, oldest))\n",
    "fig.add_legend()\n",
    "plt.show()"
   ]
  },
  {
   "cell_type": "markdown",
   "metadata": {},
   "source": [
    "Terlihat distribusi umur pasien rata2 berkisar antara 40-60 "
   ]
  },
  {
   "cell_type": "code",
   "execution_count": 23,
   "metadata": {},
   "outputs": [],
   "source": [
    "data2[['reporting date','symptom_onset']]=data2[['reporting date','symptom_onset']].astype('datetime64')\n",
    "data2['difference']=data2['reporting date']-data2['symptom_onset']\n",
    "alyze2=data2.loc[data2.difference.isnull()==False,'difference'].apply(lambda x : int(str(x).split()[0]))"
   ]
  },
  {
   "cell_type": "code",
   "execution_count": 24,
   "metadata": {},
   "outputs": [
    {
     "data": {
      "text/plain": [
       "array(['2020-01-20T00:00:00.000000000', '2020-01-21T00:00:00.000000000',\n",
       "       '2020-01-22T00:00:00.000000000', '2020-01-23T00:00:00.000000000',\n",
       "       '2020-01-24T00:00:00.000000000', '2020-01-25T00:00:00.000000000',\n",
       "       '2020-01-26T00:00:00.000000000', '2020-01-27T00:00:00.000000000',\n",
       "       '2020-01-28T00:00:00.000000000', '2020-01-29T00:00:00.000000000',\n",
       "       '2020-01-30T00:00:00.000000000', '2020-02-08T00:00:00.000000000',\n",
       "       '2020-02-15T00:00:00.000000000', '2020-02-25T00:00:00.000000000',\n",
       "       '2020-02-26T00:00:00.000000000', '2020-02-27T00:00:00.000000000',\n",
       "       '2020-02-28T00:00:00.000000000', '2020-01-15T00:00:00.000000000',\n",
       "       '2020-01-31T00:00:00.000000000', '2020-02-01T00:00:00.000000000',\n",
       "       '2020-02-04T00:00:00.000000000', '2020-02-05T00:00:00.000000000',\n",
       "       '2020-02-10T00:00:00.000000000',                           'NaT',\n",
       "       '2020-02-13T00:00:00.000000000', '2020-02-14T00:00:00.000000000',\n",
       "       '2020-02-16T00:00:00.000000000', '2020-02-17T00:00:00.000000000',\n",
       "       '2020-02-18T00:00:00.000000000', '2020-02-19T00:00:00.000000000',\n",
       "       '2020-02-20T00:00:00.000000000', '2020-02-21T00:00:00.000000000',\n",
       "       '2020-02-22T00:00:00.000000000', '2020-02-23T00:00:00.000000000',\n",
       "       '2020-02-24T00:00:00.000000000', '2020-02-06T00:00:00.000000000',\n",
       "       '2020-02-07T00:00:00.000000000', '2020-02-09T00:00:00.000000000',\n",
       "       '2020-02-11T00:00:00.000000000', '2020-02-12T00:00:00.000000000',\n",
       "       '2020-02-02T00:00:00.000000000', '2020-01-13T00:00:00.000000000',\n",
       "       '2020-01-17T00:00:00.000000000', '2020-02-03T00:00:00.000000000'],\n",
       "      dtype='datetime64[ns]')"
      ]
     },
     "execution_count": 24,
     "metadata": {},
     "output_type": "execute_result"
    }
   ],
   "source": [
    "data2['reporting date'].unique()"
   ]
  },
  {
   "cell_type": "code",
   "execution_count": 26,
   "metadata": {},
   "outputs": [
    {
     "data": {
      "text/html": [
       "<div>\n",
       "<style scoped>\n",
       "    .dataframe tbody tr th:only-of-type {\n",
       "        vertical-align: middle;\n",
       "    }\n",
       "\n",
       "    .dataframe tbody tr th {\n",
       "        vertical-align: top;\n",
       "    }\n",
       "\n",
       "    .dataframe thead th {\n",
       "        text-align: right;\n",
       "    }\n",
       "</style>\n",
       "<table border=\"1\" class=\"dataframe\">\n",
       "  <thead>\n",
       "    <tr style=\"text-align: right;\">\n",
       "      <th></th>\n",
       "      <th>id</th>\n",
       "      <th>case_in_country</th>\n",
       "      <th>reporting date</th>\n",
       "      <th>summary</th>\n",
       "      <th>location</th>\n",
       "      <th>country</th>\n",
       "      <th>gender</th>\n",
       "      <th>age</th>\n",
       "      <th>symptom_onset</th>\n",
       "      <th>If_onset_approximated</th>\n",
       "      <th>...</th>\n",
       "      <th>exposure_end</th>\n",
       "      <th>visiting Wuhan</th>\n",
       "      <th>from Wuhan</th>\n",
       "      <th>death</th>\n",
       "      <th>recovered</th>\n",
       "      <th>symptom</th>\n",
       "      <th>source</th>\n",
       "      <th>link</th>\n",
       "      <th>Have_Visit_Wuhan</th>\n",
       "      <th>difference</th>\n",
       "    </tr>\n",
       "  </thead>\n",
       "  <tbody>\n",
       "    <tr>\n",
       "      <th>209</th>\n",
       "      <td>210</td>\n",
       "      <td>13.0</td>\n",
       "      <td>2020-02-25</td>\n",
       "      <td>new confirmed COVID-19 patient in France: fema...</td>\n",
       "      <td>Paris</td>\n",
       "      <td>France</td>\n",
       "      <td>female</td>\n",
       "      <td>33.0</td>\n",
       "      <td>NaT</td>\n",
       "      <td>NaN</td>\n",
       "      <td>...</td>\n",
       "      <td>NaN</td>\n",
       "      <td>0</td>\n",
       "      <td>0.0</td>\n",
       "      <td>0</td>\n",
       "      <td>0</td>\n",
       "      <td>NaN</td>\n",
       "      <td>French Ministry of Health</td>\n",
       "      <td>https://solidarites-sante.gouv.fr/soins-et-mal...</td>\n",
       "      <td>0.0</td>\n",
       "      <td>NaT</td>\n",
       "    </tr>\n",
       "    <tr>\n",
       "      <th>210</th>\n",
       "      <td>211</td>\n",
       "      <td>14.0</td>\n",
       "      <td>2020-02-25</td>\n",
       "      <td>new confirmed COVID-19 patient in France: male...</td>\n",
       "      <td>Annecy</td>\n",
       "      <td>France</td>\n",
       "      <td>male</td>\n",
       "      <td>63.0</td>\n",
       "      <td>NaT</td>\n",
       "      <td>NaN</td>\n",
       "      <td>...</td>\n",
       "      <td>NaN</td>\n",
       "      <td>0</td>\n",
       "      <td>0.0</td>\n",
       "      <td>0</td>\n",
       "      <td>0</td>\n",
       "      <td>NaN</td>\n",
       "      <td>French Ministry of Health</td>\n",
       "      <td>https://solidarites-sante.gouv.fr/soins-et-mal...</td>\n",
       "      <td>0.0</td>\n",
       "      <td>NaT</td>\n",
       "    </tr>\n",
       "    <tr>\n",
       "      <th>211</th>\n",
       "      <td>212</td>\n",
       "      <td>15.0</td>\n",
       "      <td>2020-02-26</td>\n",
       "      <td>new confirmed COVID-19 patient in France: male...</td>\n",
       "      <td>Amiens</td>\n",
       "      <td>France</td>\n",
       "      <td>male</td>\n",
       "      <td>55.0</td>\n",
       "      <td>NaT</td>\n",
       "      <td>NaN</td>\n",
       "      <td>...</td>\n",
       "      <td>NaN</td>\n",
       "      <td>0</td>\n",
       "      <td>0.0</td>\n",
       "      <td>0</td>\n",
       "      <td>0</td>\n",
       "      <td>NaN</td>\n",
       "      <td>French Ministry of Health</td>\n",
       "      <td>https://solidarites-sante.gouv.fr/soins-et-mal...</td>\n",
       "      <td>0.0</td>\n",
       "      <td>NaT</td>\n",
       "    </tr>\n",
       "    <tr>\n",
       "      <th>212</th>\n",
       "      <td>213</td>\n",
       "      <td>16.0</td>\n",
       "      <td>2020-02-26</td>\n",
       "      <td>new confirmed COVID-19 patient in France: male...</td>\n",
       "      <td>Strasbourg</td>\n",
       "      <td>France</td>\n",
       "      <td>male</td>\n",
       "      <td>36.0</td>\n",
       "      <td>NaT</td>\n",
       "      <td>NaN</td>\n",
       "      <td>...</td>\n",
       "      <td>NaN</td>\n",
       "      <td>0</td>\n",
       "      <td>0.0</td>\n",
       "      <td>0</td>\n",
       "      <td>0</td>\n",
       "      <td>NaN</td>\n",
       "      <td>French Ministry of Health</td>\n",
       "      <td>https://solidarites-sante.gouv.fr/soins-et-mal...</td>\n",
       "      <td>0.0</td>\n",
       "      <td>NaT</td>\n",
       "    </tr>\n",
       "    <tr>\n",
       "      <th>213</th>\n",
       "      <td>214</td>\n",
       "      <td>17.0</td>\n",
       "      <td>2020-02-26</td>\n",
       "      <td>new confirmed COVID-19 patient in France: male...</td>\n",
       "      <td>Paris</td>\n",
       "      <td>France</td>\n",
       "      <td>male</td>\n",
       "      <td>60.0</td>\n",
       "      <td>NaT</td>\n",
       "      <td>NaN</td>\n",
       "      <td>...</td>\n",
       "      <td>NaN</td>\n",
       "      <td>0</td>\n",
       "      <td>0.0</td>\n",
       "      <td>2/26/2020</td>\n",
       "      <td>0</td>\n",
       "      <td>NaN</td>\n",
       "      <td>French Ministry of Health</td>\n",
       "      <td>https://solidarites-sante.gouv.fr/soins-et-mal...</td>\n",
       "      <td>0.0</td>\n",
       "      <td>NaT</td>\n",
       "    </tr>\n",
       "    <tr>\n",
       "      <th>...</th>\n",
       "      <td>...</td>\n",
       "      <td>...</td>\n",
       "      <td>...</td>\n",
       "      <td>...</td>\n",
       "      <td>...</td>\n",
       "      <td>...</td>\n",
       "      <td>...</td>\n",
       "      <td>...</td>\n",
       "      <td>...</td>\n",
       "      <td>...</td>\n",
       "      <td>...</td>\n",
       "      <td>...</td>\n",
       "      <td>...</td>\n",
       "      <td>...</td>\n",
       "      <td>...</td>\n",
       "      <td>...</td>\n",
       "      <td>...</td>\n",
       "      <td>...</td>\n",
       "      <td>...</td>\n",
       "      <td>...</td>\n",
       "      <td>...</td>\n",
       "    </tr>\n",
       "    <tr>\n",
       "      <th>1080</th>\n",
       "      <td>1081</td>\n",
       "      <td>2.0</td>\n",
       "      <td>2020-02-25</td>\n",
       "      <td>new COVID-19 patient confirmed in Austria: 24,...</td>\n",
       "      <td>Innsbruck</td>\n",
       "      <td>Austria</td>\n",
       "      <td>NaN</td>\n",
       "      <td>24.0</td>\n",
       "      <td>NaT</td>\n",
       "      <td>NaN</td>\n",
       "      <td>...</td>\n",
       "      <td>NaN</td>\n",
       "      <td>0</td>\n",
       "      <td>0.0</td>\n",
       "      <td>0</td>\n",
       "      <td>0</td>\n",
       "      <td>NaN</td>\n",
       "      <td>Jakarta Post</td>\n",
       "      <td>https://www.thejakartapost.com/news/2020/02/25...</td>\n",
       "      <td>0.0</td>\n",
       "      <td>NaT</td>\n",
       "    </tr>\n",
       "    <tr>\n",
       "      <th>1081</th>\n",
       "      <td>1082</td>\n",
       "      <td>1.0</td>\n",
       "      <td>2020-02-24</td>\n",
       "      <td>new COVID-19 patient confirmed in Afghanistan:...</td>\n",
       "      <td>Afghanistan</td>\n",
       "      <td>Afghanistan</td>\n",
       "      <td>NaN</td>\n",
       "      <td>35.0</td>\n",
       "      <td>NaT</td>\n",
       "      <td>NaN</td>\n",
       "      <td>...</td>\n",
       "      <td>NaN</td>\n",
       "      <td>0</td>\n",
       "      <td>0.0</td>\n",
       "      <td>0</td>\n",
       "      <td>0</td>\n",
       "      <td>NaN</td>\n",
       "      <td>Fox News</td>\n",
       "      <td>https://www.foxnews.com/health/afghanistan-fir...</td>\n",
       "      <td>0.0</td>\n",
       "      <td>NaT</td>\n",
       "    </tr>\n",
       "    <tr>\n",
       "      <th>1082</th>\n",
       "      <td>1083</td>\n",
       "      <td>1.0</td>\n",
       "      <td>2020-02-26</td>\n",
       "      <td>new COVID-19 patient confirmed in Algeria: mal...</td>\n",
       "      <td>Algeria</td>\n",
       "      <td>Algeria</td>\n",
       "      <td>male</td>\n",
       "      <td>NaN</td>\n",
       "      <td>NaT</td>\n",
       "      <td>NaN</td>\n",
       "      <td>...</td>\n",
       "      <td>2/17/2020</td>\n",
       "      <td>0</td>\n",
       "      <td>0.0</td>\n",
       "      <td>0</td>\n",
       "      <td>0</td>\n",
       "      <td>NaN</td>\n",
       "      <td>South China Morning Post</td>\n",
       "      <td>https://www.scmp.com/news/china/society/articl...</td>\n",
       "      <td>0.0</td>\n",
       "      <td>NaT</td>\n",
       "    </tr>\n",
       "    <tr>\n",
       "      <th>1083</th>\n",
       "      <td>1084</td>\n",
       "      <td>1.0</td>\n",
       "      <td>2020-02-25</td>\n",
       "      <td>new COVID-19 patient confirmed in Croatia: mal...</td>\n",
       "      <td>Croatia</td>\n",
       "      <td>Croatia</td>\n",
       "      <td>male</td>\n",
       "      <td>NaN</td>\n",
       "      <td>NaT</td>\n",
       "      <td>NaN</td>\n",
       "      <td>...</td>\n",
       "      <td>2/21/2020</td>\n",
       "      <td>0</td>\n",
       "      <td>0.0</td>\n",
       "      <td>0</td>\n",
       "      <td>0</td>\n",
       "      <td>NaN</td>\n",
       "      <td>Reuters</td>\n",
       "      <td>https://www.reuters.com/article/us-croatia-cor...</td>\n",
       "      <td>0.0</td>\n",
       "      <td>NaT</td>\n",
       "    </tr>\n",
       "    <tr>\n",
       "      <th>1084</th>\n",
       "      <td>1085</td>\n",
       "      <td>1.0</td>\n",
       "      <td>2020-02-25</td>\n",
       "      <td>new COVID-19 patient confirmed in Switzerland:...</td>\n",
       "      <td>Bern</td>\n",
       "      <td>Switzerland</td>\n",
       "      <td>male</td>\n",
       "      <td>70.0</td>\n",
       "      <td>2020-02-17</td>\n",
       "      <td>NaN</td>\n",
       "      <td>...</td>\n",
       "      <td>2/15/2020</td>\n",
       "      <td>0</td>\n",
       "      <td>0.0</td>\n",
       "      <td>0</td>\n",
       "      <td>0</td>\n",
       "      <td>NaN</td>\n",
       "      <td>Reuters</td>\n",
       "      <td>https://www.reuters.com/article/uk-switzerland...</td>\n",
       "      <td>0.0</td>\n",
       "      <td>8 days</td>\n",
       "    </tr>\n",
       "  </tbody>\n",
       "</table>\n",
       "<p>499 rows × 22 columns</p>\n",
       "</div>"
      ],
      "text/plain": [
       "        id  case_in_country reporting date  \\\n",
       "209    210             13.0     2020-02-25   \n",
       "210    211             14.0     2020-02-25   \n",
       "211    212             15.0     2020-02-26   \n",
       "212    213             16.0     2020-02-26   \n",
       "213    214             17.0     2020-02-26   \n",
       "...    ...              ...            ...   \n",
       "1080  1081              2.0     2020-02-25   \n",
       "1081  1082              1.0     2020-02-24   \n",
       "1082  1083              1.0     2020-02-26   \n",
       "1083  1084              1.0     2020-02-25   \n",
       "1084  1085              1.0     2020-02-25   \n",
       "\n",
       "                                                summary     location  \\\n",
       "209   new confirmed COVID-19 patient in France: fema...        Paris   \n",
       "210   new confirmed COVID-19 patient in France: male...       Annecy   \n",
       "211   new confirmed COVID-19 patient in France: male...       Amiens   \n",
       "212   new confirmed COVID-19 patient in France: male...   Strasbourg   \n",
       "213   new confirmed COVID-19 patient in France: male...        Paris   \n",
       "...                                                 ...          ...   \n",
       "1080  new COVID-19 patient confirmed in Austria: 24,...    Innsbruck   \n",
       "1081  new COVID-19 patient confirmed in Afghanistan:...  Afghanistan   \n",
       "1082  new COVID-19 patient confirmed in Algeria: mal...      Algeria   \n",
       "1083  new COVID-19 patient confirmed in Croatia: mal...      Croatia   \n",
       "1084  new COVID-19 patient confirmed in Switzerland:...         Bern   \n",
       "\n",
       "          country  gender   age symptom_onset  If_onset_approximated  ...  \\\n",
       "209        France  female  33.0           NaT                    NaN  ...   \n",
       "210        France    male  63.0           NaT                    NaN  ...   \n",
       "211        France    male  55.0           NaT                    NaN  ...   \n",
       "212        France    male  36.0           NaT                    NaN  ...   \n",
       "213        France    male  60.0           NaT                    NaN  ...   \n",
       "...           ...     ...   ...           ...                    ...  ...   \n",
       "1080      Austria     NaN  24.0           NaT                    NaN  ...   \n",
       "1081  Afghanistan     NaN  35.0           NaT                    NaN  ...   \n",
       "1082      Algeria    male   NaN           NaT                    NaN  ...   \n",
       "1083      Croatia    male   NaN           NaT                    NaN  ...   \n",
       "1084  Switzerland    male  70.0    2020-02-17                    NaN  ...   \n",
       "\n",
       "     exposure_end visiting Wuhan from Wuhan      death  recovered symptom  \\\n",
       "209           NaN              0        0.0          0          0     NaN   \n",
       "210           NaN              0        0.0          0          0     NaN   \n",
       "211           NaN              0        0.0          0          0     NaN   \n",
       "212           NaN              0        0.0          0          0     NaN   \n",
       "213           NaN              0        0.0  2/26/2020          0     NaN   \n",
       "...           ...            ...        ...        ...        ...     ...   \n",
       "1080          NaN              0        0.0          0          0     NaN   \n",
       "1081          NaN              0        0.0          0          0     NaN   \n",
       "1082    2/17/2020              0        0.0          0          0     NaN   \n",
       "1083    2/21/2020              0        0.0          0          0     NaN   \n",
       "1084    2/15/2020              0        0.0          0          0     NaN   \n",
       "\n",
       "                         source  \\\n",
       "209   French Ministry of Health   \n",
       "210   French Ministry of Health   \n",
       "211   French Ministry of Health   \n",
       "212   French Ministry of Health   \n",
       "213   French Ministry of Health   \n",
       "...                         ...   \n",
       "1080               Jakarta Post   \n",
       "1081                   Fox News   \n",
       "1082   South China Morning Post   \n",
       "1083                    Reuters   \n",
       "1084                    Reuters   \n",
       "\n",
       "                                                   link Have_Visit_Wuhan  \\\n",
       "209   https://solidarites-sante.gouv.fr/soins-et-mal...              0.0   \n",
       "210   https://solidarites-sante.gouv.fr/soins-et-mal...              0.0   \n",
       "211   https://solidarites-sante.gouv.fr/soins-et-mal...              0.0   \n",
       "212   https://solidarites-sante.gouv.fr/soins-et-mal...              0.0   \n",
       "213   https://solidarites-sante.gouv.fr/soins-et-mal...              0.0   \n",
       "...                                                 ...              ...   \n",
       "1080  https://www.thejakartapost.com/news/2020/02/25...              0.0   \n",
       "1081  https://www.foxnews.com/health/afghanistan-fir...              0.0   \n",
       "1082  https://www.scmp.com/news/china/society/articl...              0.0   \n",
       "1083  https://www.reuters.com/article/us-croatia-cor...              0.0   \n",
       "1084  https://www.reuters.com/article/uk-switzerland...              0.0   \n",
       "\n",
       "     difference  \n",
       "209         NaT  \n",
       "210         NaT  \n",
       "211         NaT  \n",
       "212         NaT  \n",
       "213         NaT  \n",
       "...         ...  \n",
       "1080        NaT  \n",
       "1081        NaT  \n",
       "1082        NaT  \n",
       "1083        NaT  \n",
       "1084     8 days  \n",
       "\n",
       "[499 rows x 22 columns]"
      ]
     },
     "execution_count": 26,
     "metadata": {},
     "output_type": "execute_result"
    }
   ],
   "source": [
    "data2[data2['reporting date']>='2020-02-16']"
   ]
  },
  {
   "cell_type": "code",
   "execution_count": 27,
   "metadata": {},
   "outputs": [
    {
     "data": {
      "image/png": "[encoded data removed]",
      "text/plain": [
       "<Figure size 648x432 with 1 Axes>"
      ]
     },
     "metadata": {
      "needs_background": "light"
     },
     "output_type": "display_data"
    }
   ],
   "source": [
    "alyze2=data2.loc[data2.difference.isnull()==False,'difference'].apply(lambda x : int(str(x).split()[0]))\n",
    "plt.subplots(figsize=(9,6))\n",
    "plt.title('Distribution of difference between symptom and reported case')\n",
    "sns.kdeplot(alyze2,shade=True,legend=False)\n",
    "plt.xlabel('Days')\n",
    "plt.ylabel('Frequency')\n",
    "plt.show()"
   ]
  },
  {
   "cell_type": "markdown",
   "metadata": {},
   "source": [
    "Lamanya pasien dinyatakan positif dari mulai muncul gejala adalah sekitar 1 minggu."
   ]
  },
  {
   "cell_type": "code",
   "execution_count": 28,
   "metadata": {},
   "outputs": [
    {
     "data": {
      "text/plain": [
       "array([nan, 'feaver, cough, difficult in breathing', 'fever',\n",
       "       'cough, chills, joint pain', 'fever, cough', 'throat pain, fever',\n",
       "       'fever, runny nose', 'fatigue', 'fever, abdominal pain, diarrhea',\n",
       "       'cold, fever, pneumonia', 'cough, joint pain',\n",
       "       'vomiting, diarrhea, fever, cough', 'fever, loss of appetite',\n",
       "       'fever, cough, malaise', 'fever, headache',\n",
       "       'fatigue, difficulty breathing', 'fever, malaise',\n",
       "       'fever, vomiting, diarrhea', 'fever, pneumonia',\n",
       "       'fever, cough, sputum, malaise',\n",
       "       'fatigue, muscle pain, joint pain, fever', 'fever, sore throat',\n",
       "       'fever, breathlessness, malaise',\n",
       "       'cough, malaise, shortness of breath', 'cough, sputum, dyspnea',\n",
       "       'fever, malaise, diarrhea, cough', 'fever, cough, sputum',\n",
       "       'fatigue, loss of appetite', 'fever, cough, breathlessness',\n",
       "       'cough, fever, headache, nausea, vomiting, diarrhea',\n",
       "       'cough, fever', 'fatigue, cold, fever, vomiting',\n",
       "       'fever, fatigue, cough, diarrhea', 'nausea',\n",
       "       'fatigue, joint pain, fever', 'cough, sputum',\n",
       "       'difficulty breathing', 'fatigue, malaise, headache',\n",
       "       'fever, sore throat, malaise', 'sore throat, cough, fever',\n",
       "       'fever, nasal discharge, headache', 'fever, difficulty breathing',\n",
       "       'joint pain, muscle pain, cough, malaise', 'chills', 'cough',\n",
       "       'fever, respiratory distress',\n",
       "       'mild cough, sputum, throat discomfort', 'cough, sneeze',\n",
       "       'fever, chills, joint pain, heavy head', 'fatigue, fever',\n",
       "       'sore throat', 'headache, fever, malaise', 'sore throat, fever',\n",
       "       'throat discomfort, cough, chest pain',\n",
       "       'fever, cough, sputum, dyspnea', 'fever, thirst',\n",
       "       'fever, cough, runny nose',\n",
       "       'fever, cough, sore throat, runny nose',\n",
       "       'malaise, fever, headache', 'throat pain, chills',\n",
       "       'fever, headache, malaise', 'fever, cough, headache',\n",
       "       'cough, malaise', 'sore throat, fever, joint pain, dyspnea',\n",
       "       'vomiting, cough, fever, sore throat',\n",
       "       'fever, headache, malaise, joint pain', 'cough, fever, joint pain',\n",
       "       'fever, malaise, sore throat', 'cough, sore throat',\n",
       "       'fever, cough, flu', 'fever, sore throat, cough', 'mild fever',\n",
       "       'fever, cough, chills', 'high fever, chills, muscle pain',\n",
       "       'fever, chills, muscle cramps', 'high fever, aching muscles',\n",
       "       'headache', 'sore body', 'fever, cough, sore throat',\n",
       "       'chest discomfort', 'cough, chill, muscle pain',\n",
       "       'fever, cough, shortness of breath', 'flu symptoms',\n",
       "       'fever, muscle aches', 'cough, runny nose', 'cough, chest pain',\n",
       "       'fever, chills, sore throat, runny nose, shortness of breath',\n",
       "       'cough, shortness of breath', 'reflux', 'throat discomfort',\n",
       "       'physical discomfort', 'cough, itchy throat',\n",
       "       'fever, chills, sore throat, headache',\n",
       "       'fever, coughing, muscle aches', 'fever, headache, runny nose',\n",
       "       'tired', 'sore throat, chills, myalgias, fever, cough', 'feve\\\\',\n",
       "       'myalgia, fever', 'fever, myalgia, shortness of breath',\n",
       "       'cough, runny nose, diarrhea', 'sore throat, fever, diarrhea',\n",
       "       'cough, chills, shortness of breath, diarrhea',\n",
       "       'cough, diarrhea, vomiting', 'cough, fever, chills',\n",
       "       'runny nose, cough', 'cough, sputum, sore throat', 'runny nose',\n",
       "       'cough with sputum'], dtype=object)"
      ]
     },
     "execution_count": 28,
     "metadata": {},
     "output_type": "execute_result"
    }
   ],
   "source": [
    "data2.symptom.unique()"
   ]
  },
  {
   "cell_type": "code",
   "execution_count": 29,
   "metadata": {},
   "outputs": [],
   "source": [
    "data2.loc[data2.symptom=='feaver, cough, difficult in breathing','symptom']='fever, cough, breathlessness'\n",
    "data2.loc[data2.symptom=='throat pain, fever','symptom']='sore throat, fever'\n",
    "data2.loc[data2.symptom=='difficulty breathing','symptom']='breathlessness'\n",
    "data2.loc[data2.symptom=='fever, difficulty breathing','symptom']='fever, breathlessness'\n",
    "data2.loc[data2.symptom=='mild cough, sputum, throat discomfort','symptom']='cough, sputum, sore throat'\n",
    "data2.loc[data2.symptom=='fever, chills, joint pain, heavy head','symptom']='fever, chills, joint pain, headache'\n",
    "data2.loc[data2.symptom=='throat discomfort, cough, chest pain','symptom']='sore throat, cough, chest pain'\n",
    "data2.loc[data2.symptom=='throat pain, chills','symptom']='sore throat, chills'\n",
    "data2.loc[data2.symptom=='mild fever','symptom']='fever'\n",
    "data2.loc[data2.symptom=='high fever, chills, muscle pain','symptom']='fever, chills, muscle pain'\n",
    "data2.loc[data2.symptom=='cough with sputum','symptom']='cough, sputum'\n",
    "data2.loc[data2.symptom=='feve\\\\','symptom']='fever'\n",
    "data2.loc[data2.symptom=='fever, chills, sore throat, runny nose, shortness of breath','symptom']='fever, chills, sore throat, runny nose, breathlessness'"
   ]
  },
  {
   "cell_type": "code",
   "execution_count": 30,
   "metadata": {},
   "outputs": [],
   "source": [
    "alyze1=data2.loc[data2.symptom.isnull()==False,'symptom'].apply(lambda x : x.split(', '))"
   ]
  },
  {
   "cell_type": "code",
   "execution_count": 31,
   "metadata": {},
   "outputs": [
    {
     "data": {
      "image/png": "[encoded data removed]",
      "text/plain": [
       "<Figure size 720x360 with 1 Axes>"
      ]
     },
     "metadata": {
      "needs_background": "light"
     },
     "output_type": "display_data"
    }
   ],
   "source": [
    "count=Counter()\n",
    "for row in alyze1:\n",
    "    count.update(Counter(combinations(row,1)))\n",
    "keys=[]\n",
    "values=[]\n",
    "for key,value in count.most_common(10):\n",
    "    keys.append(key[0])\n",
    "    values.append(value)\n",
    "plt.subplots(figsize=(10,5))\n",
    "sns.barplot(keys,values)\n",
    "plt.xlabel('Symptom')\n",
    "plt.ylabel('Frequency')\n",
    "plt.title('Most Common Symptom')\n",
    "plt.show()"
   ]
  },
  {
   "cell_type": "markdown",
   "metadata": {},
   "source": [
    "Gejala yang paling banyak terjadi pada pasien Covid-19 adalah demam, batuk, dan sakit tenggorokan."
   ]
  },
  {
   "cell_type": "markdown",
   "metadata": {},
   "source": [
    "Secara garis besar kita peroleh karakteristik dari pasien Covid-19 ini berupa :\n",
    "- Umur berkisar antara 40-60 \n",
    "- Masa Inkubasi penyakit sekitar 1 minggu\n",
    "- Gejala yang umum terjadi demam, batuk, dan sakit tenggorokan"
   ]
  },
  {
   "cell_type": "markdown",
   "metadata": {},
   "source": [
    "# Data 3"
   ]
  },
  {
   "cell_type": "code",
   "execution_count": 32,
   "metadata": {},
   "outputs": [
    {
     "data": {
      "text/html": [
       "<div>\n",
       "<style scoped>\n",
       "    .dataframe tbody tr th:only-of-type {\n",
       "        vertical-align: middle;\n",
       "    }\n",
       "\n",
       "    .dataframe tbody tr th {\n",
       "        vertical-align: top;\n",
       "    }\n",
       "\n",
       "    .dataframe thead th {\n",
       "        text-align: right;\n",
       "    }\n",
       "</style>\n",
       "<table border=\"1\" class=\"dataframe\">\n",
       "  <thead>\n",
       "    <tr style=\"text-align: right;\">\n",
       "      <th></th>\n",
       "      <th>Unnamed: 0</th>\n",
       "      <th>Country,Other</th>\n",
       "      <th>TotalCases</th>\n",
       "      <th>NewCases</th>\n",
       "      <th>TotalDeaths</th>\n",
       "      <th>NewDeaths</th>\n",
       "      <th>TotalRecovered</th>\n",
       "      <th>ActiveCases</th>\n",
       "      <th>Serious,Critical</th>\n",
       "      <th>Tot Cases/1M pop</th>\n",
       "      <th>Deaths/1M pop</th>\n",
       "      <th>TotalTests</th>\n",
       "      <th>Tests/ 1M pop</th>\n",
       "    </tr>\n",
       "  </thead>\n",
       "  <tbody>\n",
       "    <tr>\n",
       "      <th>0</th>\n",
       "      <td>0</td>\n",
       "      <td>USA</td>\n",
       "      <td>400546</td>\n",
       "      <td>211</td>\n",
       "      <td>12857</td>\n",
       "      <td>16</td>\n",
       "      <td>21711</td>\n",
       "      <td>365978</td>\n",
       "      <td>9169</td>\n",
       "      <td>1210.0</td>\n",
       "      <td>39.0</td>\n",
       "      <td>2082431</td>\n",
       "      <td>6291</td>\n",
       "    </tr>\n",
       "    <tr>\n",
       "      <th>1</th>\n",
       "      <td>1</td>\n",
       "      <td>Spain</td>\n",
       "      <td>141942</td>\n",
       "      <td>0</td>\n",
       "      <td>14045</td>\n",
       "      <td>0</td>\n",
       "      <td>43208</td>\n",
       "      <td>84689</td>\n",
       "      <td>7069</td>\n",
       "      <td>3036.0</td>\n",
       "      <td>300.0</td>\n",
       "      <td>355000</td>\n",
       "      <td>7593</td>\n",
       "    </tr>\n",
       "    <tr>\n",
       "      <th>2</th>\n",
       "      <td>2</td>\n",
       "      <td>Italy</td>\n",
       "      <td>135586</td>\n",
       "      <td>0</td>\n",
       "      <td>17127</td>\n",
       "      <td>0</td>\n",
       "      <td>24392</td>\n",
       "      <td>94067</td>\n",
       "      <td>3792</td>\n",
       "      <td>2243.0</td>\n",
       "      <td>283.0</td>\n",
       "      <td>755445</td>\n",
       "      <td>12495</td>\n",
       "    </tr>\n",
       "    <tr>\n",
       "      <th>3</th>\n",
       "      <td>3</td>\n",
       "      <td>France</td>\n",
       "      <td>109069</td>\n",
       "      <td>0</td>\n",
       "      <td>10328</td>\n",
       "      <td>0</td>\n",
       "      <td>19337</td>\n",
       "      <td>79404</td>\n",
       "      <td>7131</td>\n",
       "      <td>1671.0</td>\n",
       "      <td>158.0</td>\n",
       "      <td>224254</td>\n",
       "      <td>3436</td>\n",
       "    </tr>\n",
       "    <tr>\n",
       "      <th>4</th>\n",
       "      <td>4</td>\n",
       "      <td>Germany</td>\n",
       "      <td>107663</td>\n",
       "      <td>0</td>\n",
       "      <td>2016</td>\n",
       "      <td>0</td>\n",
       "      <td>36081</td>\n",
       "      <td>69566</td>\n",
       "      <td>4895</td>\n",
       "      <td>1285.0</td>\n",
       "      <td>24.0</td>\n",
       "      <td>918460</td>\n",
       "      <td>10962</td>\n",
       "    </tr>\n",
       "  </tbody>\n",
       "</table>\n",
       "</div>"
      ],
      "text/plain": [
       "   Unnamed: 0 Country,Other  TotalCases  NewCases  TotalDeaths  NewDeaths  \\\n",
       "0           0           USA      400546       211        12857         16   \n",
       "1           1         Spain      141942         0        14045          0   \n",
       "2           2         Italy      135586         0        17127          0   \n",
       "3           3        France      109069         0        10328          0   \n",
       "4           4       Germany      107663         0         2016          0   \n",
       "\n",
       "   TotalRecovered  ActiveCases  Serious,Critical  Tot Cases/1M pop  \\\n",
       "0           21711       365978              9169            1210.0   \n",
       "1           43208        84689              7069            3036.0   \n",
       "2           24392        94067              3792            2243.0   \n",
       "3           19337        79404              7131            1671.0   \n",
       "4           36081        69566              4895            1285.0   \n",
       "\n",
       "   Deaths/1M pop  TotalTests  Tests/ 1M pop  \n",
       "0           39.0     2082431           6291  \n",
       "1          300.0      355000           7593  \n",
       "2          283.0      755445          12495  \n",
       "3          158.0      224254           3436  \n",
       "4           24.0      918460          10962  "
      ]
     },
     "execution_count": 32,
     "metadata": {},
     "output_type": "execute_result"
    }
   ],
   "source": [
    "corona = pd.read_csv('data/corona_latest.csv')\n",
    "corona.head()"
   ]
  },
  {
   "cell_type": "code",
   "execution_count": 33,
   "metadata": {},
   "outputs": [
    {
     "data": {
      "text/html": [
       "<div>\n",
       "<style scoped>\n",
       "    .dataframe tbody tr th:only-of-type {\n",
       "        vertical-align: middle;\n",
       "    }\n",
       "\n",
       "    .dataframe tbody tr th {\n",
       "        vertical-align: top;\n",
       "    }\n",
       "\n",
       "    .dataframe thead th {\n",
       "        text-align: right;\n",
       "    }\n",
       "</style>\n",
       "<table border=\"1\" class=\"dataframe\">\n",
       "  <thead>\n",
       "    <tr style=\"text-align: right;\">\n",
       "      <th></th>\n",
       "      <th>Unnamed: 0</th>\n",
       "      <th>TotalCases</th>\n",
       "      <th>NewCases</th>\n",
       "      <th>TotalDeaths</th>\n",
       "      <th>NewDeaths</th>\n",
       "      <th>TotalRecovered</th>\n",
       "      <th>ActiveCases</th>\n",
       "      <th>Serious,Critical</th>\n",
       "      <th>Tot Cases/1M pop</th>\n",
       "      <th>Deaths/1M pop</th>\n",
       "      <th>TotalTests</th>\n",
       "      <th>Tests/ 1M pop</th>\n",
       "    </tr>\n",
       "  </thead>\n",
       "  <tbody>\n",
       "    <tr>\n",
       "      <th>count</th>\n",
       "      <td>211.00000</td>\n",
       "      <td>211.000000</td>\n",
       "      <td>211.000000</td>\n",
       "      <td>211.000000</td>\n",
       "      <td>211.000000</td>\n",
       "      <td>211.000000</td>\n",
       "      <td>211.000000</td>\n",
       "      <td>211.000000</td>\n",
       "      <td>211.000000</td>\n",
       "      <td>211.000000</td>\n",
       "      <td>2.110000e+02</td>\n",
       "      <td>211.000000</td>\n",
       "    </tr>\n",
       "    <tr>\n",
       "      <th>mean</th>\n",
       "      <td>105.00000</td>\n",
       "      <td>6791.526066</td>\n",
       "      <td>9.919431</td>\n",
       "      <td>389.270142</td>\n",
       "      <td>0.483412</td>\n",
       "      <td>1432.943128</td>\n",
       "      <td>4969.312796</td>\n",
       "      <td>227.165877</td>\n",
       "      <td>467.763507</td>\n",
       "      <td>17.455450</td>\n",
       "      <td>4.868678e+04</td>\n",
       "      <td>4490.184834</td>\n",
       "    </tr>\n",
       "    <tr>\n",
       "      <th>std</th>\n",
       "      <td>61.05462</td>\n",
       "      <td>33132.295703</td>\n",
       "      <td>38.538517</td>\n",
       "      <td>1964.112927</td>\n",
       "      <td>2.040882</td>\n",
       "      <td>7261.136204</td>\n",
       "      <td>27783.165354</td>\n",
       "      <td>1064.371863</td>\n",
       "      <td>1169.333748</td>\n",
       "      <td>79.532681</td>\n",
       "      <td>1.818599e+05</td>\n",
       "      <td>11201.315024</td>\n",
       "    </tr>\n",
       "    <tr>\n",
       "      <th>min</th>\n",
       "      <td>0.00000</td>\n",
       "      <td>1.000000</td>\n",
       "      <td>0.000000</td>\n",
       "      <td>0.000000</td>\n",
       "      <td>0.000000</td>\n",
       "      <td>0.000000</td>\n",
       "      <td>1.000000</td>\n",
       "      <td>0.000000</td>\n",
       "      <td>0.000000</td>\n",
       "      <td>0.000000</td>\n",
       "      <td>0.000000e+00</td>\n",
       "      <td>0.000000</td>\n",
       "    </tr>\n",
       "    <tr>\n",
       "      <th>25%</th>\n",
       "      <td>52.50000</td>\n",
       "      <td>19.500000</td>\n",
       "      <td>0.000000</td>\n",
       "      <td>0.500000</td>\n",
       "      <td>0.000000</td>\n",
       "      <td>2.000000</td>\n",
       "      <td>17.500000</td>\n",
       "      <td>0.000000</td>\n",
       "      <td>9.500000</td>\n",
       "      <td>0.000000</td>\n",
       "      <td>0.000000e+00</td>\n",
       "      <td>0.000000</td>\n",
       "    </tr>\n",
       "    <tr>\n",
       "      <th>50%</th>\n",
       "      <td>105.00000</td>\n",
       "      <td>248.000000</td>\n",
       "      <td>0.000000</td>\n",
       "      <td>5.000000</td>\n",
       "      <td>0.000000</td>\n",
       "      <td>30.000000</td>\n",
       "      <td>159.000000</td>\n",
       "      <td>2.000000</td>\n",
       "      <td>76.000000</td>\n",
       "      <td>0.700000</td>\n",
       "      <td>1.669000e+03</td>\n",
       "      <td>419.000000</td>\n",
       "    </tr>\n",
       "    <tr>\n",
       "      <th>75%</th>\n",
       "      <td>157.50000</td>\n",
       "      <td>1474.500000</td>\n",
       "      <td>0.000000</td>\n",
       "      <td>34.000000</td>\n",
       "      <td>0.000000</td>\n",
       "      <td>131.000000</td>\n",
       "      <td>1097.500000</td>\n",
       "      <td>24.000000</td>\n",
       "      <td>323.500000</td>\n",
       "      <td>6.000000</td>\n",
       "      <td>2.555600e+04</td>\n",
       "      <td>3896.000000</td>\n",
       "    </tr>\n",
       "    <tr>\n",
       "      <th>max</th>\n",
       "      <td>210.00000</td>\n",
       "      <td>400546.000000</td>\n",
       "      <td>346.000000</td>\n",
       "      <td>17127.000000</td>\n",
       "      <td>16.000000</td>\n",
       "      <td>77279.000000</td>\n",
       "      <td>365978.000000</td>\n",
       "      <td>9169.000000</td>\n",
       "      <td>8739.000000</td>\n",
       "      <td>1002.000000</td>\n",
       "      <td>2.082431e+06</td>\n",
       "      <td>105458.000000</td>\n",
       "    </tr>\n",
       "  </tbody>\n",
       "</table>\n",
       "</div>"
      ],
      "text/plain": [
       "       Unnamed: 0     TotalCases    NewCases   TotalDeaths   NewDeaths  \\\n",
       "count   211.00000     211.000000  211.000000    211.000000  211.000000   \n",
       "mean    105.00000    6791.526066    9.919431    389.270142    0.483412   \n",
       "std      61.05462   33132.295703   38.538517   1964.112927    2.040882   \n",
       "min       0.00000       1.000000    0.000000      0.000000    0.000000   \n",
       "25%      52.50000      19.500000    0.000000      0.500000    0.000000   \n",
       "50%     105.00000     248.000000    0.000000      5.000000    0.000000   \n",
       "75%     157.50000    1474.500000    0.000000     34.000000    0.000000   \n",
       "max     210.00000  400546.000000  346.000000  17127.000000   16.000000   \n",
       "\n",
       "       TotalRecovered    ActiveCases  Serious,Critical  Tot Cases/1M pop  \\\n",
       "count      211.000000     211.000000        211.000000        211.000000   \n",
       "mean      1432.943128    4969.312796        227.165877        467.763507   \n",
       "std       7261.136204   27783.165354       1064.371863       1169.333748   \n",
       "min          0.000000       1.000000          0.000000          0.000000   \n",
       "25%          2.000000      17.500000          0.000000          9.500000   \n",
       "50%         30.000000     159.000000          2.000000         76.000000   \n",
       "75%        131.000000    1097.500000         24.000000        323.500000   \n",
       "max      77279.000000  365978.000000       9169.000000       8739.000000   \n",
       "\n",
       "       Deaths/1M pop    TotalTests  Tests/ 1M pop  \n",
       "count     211.000000  2.110000e+02     211.000000  \n",
       "mean       17.455450  4.868678e+04    4490.184834  \n",
       "std        79.532681  1.818599e+05   11201.315024  \n",
       "min         0.000000  0.000000e+00       0.000000  \n",
       "25%         0.000000  0.000000e+00       0.000000  \n",
       "50%         0.700000  1.669000e+03     419.000000  \n",
       "75%         6.000000  2.555600e+04    3896.000000  \n",
       "max      1002.000000  2.082431e+06  105458.000000  "
      ]
     },
     "execution_count": 33,
     "metadata": {},
     "output_type": "execute_result"
    }
   ],
   "source": [
    "corona.describe()"
   ]
  },
  {
   "cell_type": "code",
   "execution_count": 37,
   "metadata": {},
   "outputs": [
    {
     "data": {
      "application/vnd.plotly.v1+json": {
       "config": {
        "plotlyServerURL": "https://plot.ly"
       },
       "data": [
        {
         "marker": {
          "color": "#636EFA"
         },
         "name": "TotalCases",
         "text": [
          400546,
          141942,
          135586,
          109069,
          107663,
          81802,
          62589,
          55242,
          34109,
          22328,
          22194,
          19580,
          17897,
          14049,
          12709,
          12442,
          10384,
          9404,
          7693,
          7497,
          6086,
          6010,
          5709,
          5360,
          5116,
          5071,
          5033
         ],
         "textposition": "auto",
         "type": "bar",
         "x": [
          "USA",
          "Spain",
          "Italy",
          "France",
          "Germany",
          "China",
          "Iran",
          "UK",
          "Turkey",
          "Switzerland",
          "Belgium",
          "Netherlands",
          "Canada",
          "Brazil",
          "Austria",
          "Portugal",
          "S. Korea",
          "Israel",
          "Sweden",
          "Russia",
          "Norway",
          "Australia",
          "Ireland",
          "India",
          "Chile",
          "Denmark",
          "Czechia"
         ],
         "y": [
          400546,
          141942,
          135586,
          109069,
          107663,
          81802,
          62589,
          55242,
          34109,
          22328,
          22194,
          19580,
          17897,
          14049,
          12709,
          12442,
          10384,
          9404,
          7693,
          7497,
          6086,
          6010,
          5709,
          5360,
          5116,
          5071,
          5033
         ]
        },
        {
         "marker": {
          "color": "#2ca02c"
         },
         "name": "TotalRecovered",
         "text": [
          21711,
          43208,
          24392,
          19337,
          36081,
          77279,
          27039,
          135,
          1582,
          8704,
          4157,
          250,
          4028,
          127,
          4046,
          184,
          6776,
          801,
          205,
          494,
          32,
          2547,
          25,
          468,
          898,
          1491,
          181
         ],
         "textposition": "auto",
         "type": "bar",
         "x": [
          "USA",
          "Spain",
          "Italy",
          "France",
          "Germany",
          "China",
          "Iran",
          "UK",
          "Turkey",
          "Switzerland",
          "Belgium",
          "Netherlands",
          "Canada",
          "Brazil",
          "Austria",
          "Portugal",
          "S. Korea",
          "Israel",
          "Sweden",
          "Russia",
          "Norway",
          "Australia",
          "Ireland",
          "India",
          "Chile",
          "Denmark",
          "Czechia"
         ],
         "y": [
          21711,
          43208,
          24392,
          19337,
          36081,
          77279,
          27039,
          135,
          1582,
          8704,
          4157,
          250,
          4028,
          127,
          4046,
          184,
          6776,
          801,
          205,
          494,
          32,
          2547,
          25,
          468,
          898,
          1491,
          181
         ]
        },
        {
         "marker": {
          "color": "#EF553B"
         },
         "name": "TotalDeaths",
         "text": [
          12857,
          14045,
          17127,
          10328,
          2016,
          3333,
          3872,
          6159,
          725,
          824,
          2035,
          2101,
          381,
          688,
          243,
          345,
          200,
          71,
          591,
          58,
          89,
          50,
          210,
          164,
          43,
          203,
          91
         ],
         "textposition": "auto",
         "type": "bar",
         "x": [
          "USA",
          "Spain",
          "Italy",
          "France",
          "Germany",
          "China",
          "Iran",
          "UK",
          "Turkey",
          "Switzerland",
          "Belgium",
          "Netherlands",
          "Canada",
          "Brazil",
          "Austria",
          "Portugal",
          "S. Korea",
          "Israel",
          "Sweden",
          "Russia",
          "Norway",
          "Australia",
          "Ireland",
          "India",
          "Chile",
          "Denmark",
          "Czechia"
         ],
         "y": [
          12857,
          14045,
          17127,
          10328,
          2016,
          3333,
          3872,
          6159,
          725,
          824,
          2035,
          2101,
          381,
          688,
          243,
          345,
          200,
          71,
          591,
          58,
          89,
          50,
          210,
          164,
          43,
          203,
          91
         ]
        }
       ],
       "layout": {
        "template": {
         "data": {
          "bar": [
           {
            "error_x": {
             "color": "#2a3f5f"
            },
            "error_y": {
             "color": "#2a3f5f"
            },
            "marker": {
             "line": {
              "color": "#E5ECF6",
              "width": 0.5
             }
            },
            "type": "bar"
           }
          ],
          "barpolar": [
           {
            "marker": {
             "line": {
              "color": "#E5ECF6",
              "width": 0.5
             }
            },
            "type": "barpolar"
           }
          ],
          "carpet": [
           {
            "aaxis": {
             "endlinecolor": "#2a3f5f",
             "gridcolor": "white",
             "linecolor": "white",
             "minorgridcolor": "white",
             "startlinecolor": "#2a3f5f"
            },
            "baxis": {
             "endlinecolor": "#2a3f5f",
             "gridcolor": "white",
             "linecolor": "white",
             "minorgridcolor": "white",
             "startlinecolor": "#2a3f5f"
            },
            "type": "carpet"
           }
          ],
          "choropleth": [
           {
            "colorbar": {
             "outlinewidth": 0,
             "ticks": ""
            },
            "type": "choropleth"
           }
          ],
          "contour": [
           {
            "colorbar": {
             "outlinewidth": 0,
             "ticks": ""
            },
            "colorscale": [
             [
              0,
              "#0d0887"
             ],
             [
              0.1111111111111111,
              "#46039f"
             ],
             [
              0.2222222222222222,
              "#7201a8"
             ],
             [
              0.3333333333333333,
              "#9c179e"
             ],
             [
              0.4444444444444444,
              "#bd3786"
             ],
             [
              0.5555555555555556,
              "#d8576b"
             ],
             [
              0.6666666666666666,
              "#ed7953"
             ],
             [
              0.7777777777777778,
              "#fb9f3a"
             ],
             [
              0.8888888888888888,
              "#fdca26"
             ],
             [
              1,
              "#f0f921"
             ]
            ],
            "type": "contour"
           }
          ],
          "contourcarpet": [
           {
            "colorbar": {
             "outlinewidth": 0,
             "ticks": ""
            },
            "type": "contourcarpet"
           }
          ],
          "heatmap": [
           {
            "colorbar": {
             "outlinewidth": 0,
             "ticks": ""
            },
            "colorscale": [
             [
              0,
              "#0d0887"
             ],
             [
              0.1111111111111111,
              "#46039f"
             ],
             [
              0.2222222222222222,
              "#7201a8"
             ],
             [
              0.3333333333333333,
              "#9c179e"
             ],
             [
              0.4444444444444444,
              "#bd3786"
             ],
             [
              0.5555555555555556,
              "#d8576b"
             ],
             [
              0.6666666666666666,
              "#ed7953"
             ],
             [
              0.7777777777777778,
              "#fb9f3a"
             ],
             [
              0.8888888888888888,
              "#fdca26"
             ],
             [
              1,
              "#f0f921"
             ]
            ],
            "type": "heatmap"
           }
          ],
          "heatmapgl": [
           {
            "colorbar": {
             "outlinewidth": 0,
             "ticks": ""
            },
            "colorscale": [
             [
              0,
              "#0d0887"
             ],
             [
              0.1111111111111111,
              "#46039f"
             ],
             [
              0.2222222222222222,
              "#7201a8"
             ],
             [
              0.3333333333333333,
              "#9c179e"
             ],
             [
              0.4444444444444444,
              "#bd3786"
             ],
             [
              0.5555555555555556,
              "#d8576b"
             ],
             [
              0.6666666666666666,
              "#ed7953"
             ],
             [
              0.7777777777777778,
              "#fb9f3a"
             ],
             [
              0.8888888888888888,
              "#fdca26"
             ],
             [
              1,
              "#f0f921"
             ]
            ],
            "type": "heatmapgl"
           }
          ],
          "histogram": [
           {
            "marker": {
             "colorbar": {
              "outlinewidth": 0,
              "ticks": ""
             }
            },
            "type": "histogram"
           }
          ],
          "histogram2d": [
           {
            "colorbar": {
             "outlinewidth": 0,
             "ticks": ""
            },
            "colorscale": [
             [
              0,
              "#0d0887"
             ],
             [
              0.1111111111111111,
              "#46039f"
             ],
             [
              0.2222222222222222,
              "#7201a8"
             ],
             [
              0.3333333333333333,
              "#9c179e"
             ],
             [
              0.4444444444444444,
              "#bd3786"
             ],
             [
              0.5555555555555556,
              "#d8576b"
             ],
             [
              0.6666666666666666,
              "#ed7953"
             ],
             [
              0.7777777777777778,
              "#fb9f3a"
             ],
             [
              0.8888888888888888,
              "#fdca26"
             ],
             [
              1,
              "#f0f921"
             ]
            ],
            "type": "histogram2d"
           }
          ],
          "histogram2dcontour": [
           {
            "colorbar": {
             "outlinewidth": 0,
             "ticks": ""
            },
            "colorscale": [
             [
              0,
              "#0d0887"
             ],
             [
              0.1111111111111111,
              "#46039f"
             ],
             [
              0.2222222222222222,
              "#7201a8"
             ],
             [
              0.3333333333333333,
              "#9c179e"
             ],
             [
              0.4444444444444444,
              "#bd3786"
             ],
             [
              0.5555555555555556,
              "#d8576b"
             ],
             [
              0.6666666666666666,
              "#ed7953"
             ],
             [
              0.7777777777777778,
              "#fb9f3a"
             ],
             [
              0.8888888888888888,
              "#fdca26"
             ],
             [
              1,
              "#f0f921"
             ]
            ],
            "type": "histogram2dcontour"
           }
          ],
          "mesh3d": [
           {
            "colorbar": {
             "outlinewidth": 0,
             "ticks": ""
            },
            "type": "mesh3d"
           }
          ],
          "parcoords": [
           {
            "line": {
             "colorbar": {
              "outlinewidth": 0,
              "ticks": ""
             }
            },
            "type": "parcoords"
           }
          ],
          "pie": [
           {
            "automargin": true,
            "type": "pie"
           }
          ],
          "scatter": [
           {
            "marker": {
             "colorbar": {
              "outlinewidth": 0,
              "ticks": ""
             }
            },
            "type": "scatter"
           }
          ],
          "scatter3d": [
           {
            "line": {
             "colorbar": {
              "outlinewidth": 0,
              "ticks": ""
             }
            },
            "marker": {
             "colorbar": {
              "outlinewidth": 0,
              "ticks": ""
             }
            },
            "type": "scatter3d"
           }
          ],
          "scattercarpet": [
           {
            "marker": {
             "colorbar": {
              "outlinewidth": 0,
              "ticks": ""
             }
            },
            "type": "scattercarpet"
           }
          ],
          "scattergeo": [
           {
            "marker": {
             "colorbar": {
              "outlinewidth": 0,
              "ticks": ""
             }
            },
            "type": "scattergeo"
           }
          ],
          "scattergl": [
           {
            "marker": {
             "colorbar": {
              "outlinewidth": 0,
              "ticks": ""
             }
            },
            "type": "scattergl"
           }
          ],
          "scattermapbox": [
           {
            "marker": {
             "colorbar": {
              "outlinewidth": 0,
              "ticks": ""
             }
            },
            "type": "scattermapbox"
           }
          ],
          "scatterpolar": [
           {
            "marker": {
             "colorbar": {
              "outlinewidth": 0,
              "ticks": ""
             }
            },
            "type": "scatterpolar"
           }
          ],
          "scatterpolargl": [
           {
            "marker": {
             "colorbar": {
              "outlinewidth": 0,
              "ticks": ""
             }
            },
            "type": "scatterpolargl"
           }
          ],
          "scatterternary": [
           {
            "marker": {
             "colorbar": {
              "outlinewidth": 0,
              "ticks": ""
             }
            },
            "type": "scatterternary"
           }
          ],
          "surface": [
           {
            "colorbar": {
             "outlinewidth": 0,
             "ticks": ""
            },
            "colorscale": [
             [
              0,
              "#0d0887"
             ],
             [
              0.1111111111111111,
              "#46039f"
             ],
             [
              0.2222222222222222,
              "#7201a8"
             ],
             [
              0.3333333333333333,
              "#9c179e"
             ],
             [
              0.4444444444444444,
              "#bd3786"
             ],
             [
              0.5555555555555556,
              "#d8576b"
             ],
             [
              0.6666666666666666,
              "#ed7953"
             ],
             [
              0.7777777777777778,
              "#fb9f3a"
             ],
             [
              0.8888888888888888,
              "#fdca26"
             ],
             [
              1,
              "#f0f921"
             ]
            ],
            "type": "surface"
           }
          ],
          "table": [
           {
            "cells": {
             "fill": {
              "color": "#EBF0F8"
             },
             "line": {
              "color": "white"
             }
            },
            "header": {
             "fill": {
              "color": "#C8D4E3"
             },
             "line": {
              "color": "white"
             }
            },
            "type": "table"
           }
          ]
         },
         "layout": {
          "annotationdefaults": {
           "arrowcolor": "#2a3f5f",
           "arrowhead": 0,
           "arrowwidth": 1
          },
          "coloraxis": {
           "colorbar": {
            "outlinewidth": 0,
            "ticks": ""
           }
          },
          "colorscale": {
           "diverging": [
            [
             0,
             "#8e0152"
            ],
            [
             0.1,
             "#c51b7d"
            ],
            [
             0.2,
             "#de77ae"
            ],
            [
             0.3,
             "#f1b6da"
            ],
            [
             0.4,
             "#fde0ef"
            ],
            [
             0.5,
             "#f7f7f7"
            ],
            [
             0.6,
             "#e6f5d0"
            ],
            [
             0.7,
             "#b8e186"
            ],
            [
             0.8,
             "#7fbc41"
            ],
            [
             0.9,
             "#4d9221"
            ],
            [
             1,
             "#276419"
            ]
           ],
           "sequential": [
            [
             0,
             "#0d0887"
            ],
            [
             0.1111111111111111,
             "#46039f"
            ],
            [
             0.2222222222222222,
             "#7201a8"
            ],
            [
             0.3333333333333333,
             "#9c179e"
            ],
            [
             0.4444444444444444,
             "#bd3786"
            ],
            [
             0.5555555555555556,
             "#d8576b"
            ],
            [
             0.6666666666666666,
             "#ed7953"
            ],
            [
             0.7777777777777778,
             "#fb9f3a"
            ],
            [
             0.8888888888888888,
             "#fdca26"
            ],
            [
             1,
             "#f0f921"
            ]
           ],
           "sequentialminus": [
            [
             0,
             "#0d0887"
            ],
            [
             0.1111111111111111,
             "#46039f"
            ],
            [
             0.2222222222222222,
             "#7201a8"
            ],
            [
             0.3333333333333333,
             "#9c179e"
            ],
            [
             0.4444444444444444,
             "#bd3786"
            ],
            [
             0.5555555555555556,
             "#d8576b"
            ],
            [
             0.6666666666666666,
             "#ed7953"
            ],
            [
             0.7777777777777778,
             "#fb9f3a"
            ],
            [
             0.8888888888888888,
             "#fdca26"
            ],
            [
             1,
             "#f0f921"
            ]
           ]
          },
          "colorway": [
           "#636efa",
           "#EF553B",
           "#00cc96",
           "#ab63fa",
           "#FFA15A",
           "#19d3f3",
           "#FF6692",
           "#B6E880",
           "#FF97FF",
           "#FECB52"
          ],
          "font": {
           "color": "#2a3f5f"
          },
          "geo": {
           "bgcolor": "white",
           "lakecolor": "white",
           "landcolor": "#E5ECF6",
           "showlakes": true,
           "showland": true,
           "subunitcolor": "white"
          },
          "hoverlabel": {
           "align": "left"
          },
          "hovermode": "closest",
          "mapbox": {
           "style": "light"
          },
          "paper_bgcolor": "white",
          "plot_bgcolor": "#E5ECF6",
          "polar": {
           "angularaxis": {
            "gridcolor": "white",
            "linecolor": "white",
            "ticks": ""
           },
           "bgcolor": "#E5ECF6",
           "radialaxis": {
            "gridcolor": "white",
            "linecolor": "white",
            "ticks": ""
           }
          },
          "scene": {
           "xaxis": {
            "backgroundcolor": "#E5ECF6",
            "gridcolor": "white",
            "gridwidth": 2,
            "linecolor": "white",
            "showbackground": true,
            "ticks": "",
            "zerolinecolor": "white"
           },
           "yaxis": {
            "backgroundcolor": "#E5ECF6",
            "gridcolor": "white",
            "gridwidth": 2,
            "linecolor": "white",
            "showbackground": true,
            "ticks": "",
            "zerolinecolor": "white"
           },
           "zaxis": {
            "backgroundcolor": "#E5ECF6",
            "gridcolor": "white",
            "gridwidth": 2,
            "linecolor": "white",
            "showbackground": true,
            "ticks": "",
            "zerolinecolor": "white"
           }
          },
          "shapedefaults": {
           "line": {
            "color": "#2a3f5f"
           }
          },
          "ternary": {
           "aaxis": {
            "gridcolor": "white",
            "linecolor": "white",
            "ticks": ""
           },
           "baxis": {
            "gridcolor": "white",
            "linecolor": "white",
            "ticks": ""
           },
           "bgcolor": "#E5ECF6",
           "caxis": {
            "gridcolor": "white",
            "linecolor": "white",
            "ticks": ""
           }
          },
          "title": {
           "x": 0.05
          },
          "xaxis": {
           "automargin": true,
           "gridcolor": "white",
           "linecolor": "white",
           "ticks": "",
           "title": {
            "standoff": 15
           },
           "zerolinecolor": "white",
           "zerolinewidth": 2
          },
          "yaxis": {
           "automargin": true,
           "gridcolor": "white",
           "linecolor": "white",
           "ticks": "",
           "title": {
            "standoff": 15
           },
           "zerolinecolor": "white",
           "zerolinewidth": 2
          }
         }
        },
        "title": {
         "text": "Corona virus TotalCase greater than 5000"
        },
        "xaxis": {
         "tickfont": {
          "size": 14
         }
        },
        "yaxis": {
         "tickfont": {
          "size": 14
         },
         "title": {
          "font": {
           "size": 16
          },
          "text": "COUNT"
         }
        }
       }
      },
      "text/html": [
       "<div>\n",
       "        \n",
       "        \n",
       "            <div id=\"0ad2b1ca-aa13-4fe6-9624-fc9f4b164c19\" class=\"plotly-graph-div\" style=\"height:525px; width:100%;\"></div>\n",
       "            <script type=\"text/javascript\">\n",
       "                require([\"plotly\"], function(Plotly) {\n",
       "                    window.PLOTLYENV=window.PLOTLYENV || {};\n",
       "                    \n",
       "                if (document.getElementById(\"0ad2b1ca-aa13-4fe6-9624-fc9f4b164c19\")) {\n",
       "                    Plotly.newPlot(\n",
       "                        '0ad2b1ca-aa13-4fe6-9624-fc9f4b164c19',\n",
       "                        [{\"marker\": {\"color\": \"#636EFA\"}, \"name\": \"TotalCases\", \"text\": [400546.0, 141942.0, 135586.0, 109069.0, 107663.0, 81802.0, 62589.0, 55242.0, 34109.0, 22328.0, 22194.0, 19580.0, 17897.0, 14049.0, 12709.0, 12442.0, 10384.0, 9404.0, 7693.0, 7497.0, 6086.0, 6010.0, 5709.0, 5360.0, 5116.0, 5071.0, 5033.0], \"textposition\": \"auto\", \"type\": \"bar\", \"x\": [\"USA\", \"Spain\", \"Italy\", \"France\", \"Germany\", \"China\", \"Iran\", \"UK\", \"Turkey\", \"Switzerland\", \"Belgium\", \"Netherlands\", \"Canada\", \"Brazil\", \"Austria\", \"Portugal\", \"S. Korea\", \"Israel\", \"Sweden\", \"Russia\", \"Norway\", \"Australia\", \"Ireland\", \"India\", \"Chile\", \"Denmark\", \"Czechia\"], \"y\": [400546, 141942, 135586, 109069, 107663, 81802, 62589, 55242, 34109, 22328, 22194, 19580, 17897, 14049, 12709, 12442, 10384, 9404, 7693, 7497, 6086, 6010, 5709, 5360, 5116, 5071, 5033]}, {\"marker\": {\"color\": \"#2ca02c\"}, \"name\": \"TotalRecovered\", \"text\": [21711.0, 43208.0, 24392.0, 19337.0, 36081.0, 77279.0, 27039.0, 135.0, 1582.0, 8704.0, 4157.0, 250.0, 4028.0, 127.0, 4046.0, 184.0, 6776.0, 801.0, 205.0, 494.0, 32.0, 2547.0, 25.0, 468.0, 898.0, 1491.0, 181.0], \"textposition\": \"auto\", \"type\": \"bar\", \"x\": [\"USA\", \"Spain\", \"Italy\", \"France\", \"Germany\", \"China\", \"Iran\", \"UK\", \"Turkey\", \"Switzerland\", \"Belgium\", \"Netherlands\", \"Canada\", \"Brazil\", \"Austria\", \"Portugal\", \"S. Korea\", \"Israel\", \"Sweden\", \"Russia\", \"Norway\", \"Australia\", \"Ireland\", \"India\", \"Chile\", \"Denmark\", \"Czechia\"], \"y\": [21711, 43208, 24392, 19337, 36081, 77279, 27039, 135, 1582, 8704, 4157, 250, 4028, 127, 4046, 184, 6776, 801, 205, 494, 32, 2547, 25, 468, 898, 1491, 181]}, {\"marker\": {\"color\": \"#EF553B\"}, \"name\": \"TotalDeaths\", \"text\": [12857.0, 14045.0, 17127.0, 10328.0, 2016.0, 3333.0, 3872.0, 6159.0, 725.0, 824.0, 2035.0, 2101.0, 381.0, 688.0, 243.0, 345.0, 200.0, 71.0, 591.0, 58.0, 89.0, 50.0, 210.0, 164.0, 43.0, 203.0, 91.0], \"textposition\": \"auto\", \"type\": \"bar\", \"x\": [\"USA\", \"Spain\", \"Italy\", \"France\", \"Germany\", \"China\", \"Iran\", \"UK\", \"Turkey\", \"Switzerland\", \"Belgium\", \"Netherlands\", \"Canada\", \"Brazil\", \"Austria\", \"Portugal\", \"S. Korea\", \"Israel\", \"Sweden\", \"Russia\", \"Norway\", \"Australia\", \"Ireland\", \"India\", \"Chile\", \"Denmark\", \"Czechia\"], \"y\": [12857, 14045, 17127, 10328, 2016, 3333, 3872, 6159, 725, 824, 2035, 2101, 381, 688, 243, 345, 200, 71, 591, 58, 89, 50, 210, 164, 43, 203, 91]}],\n",
       "                        {\"template\": {\"data\": {\"bar\": [{\"error_x\": {\"color\": \"#2a3f5f\"}, \"error_y\": {\"color\": \"#2a3f5f\"}, \"marker\": {\"line\": {\"color\": \"#E5ECF6\", \"width\": 0.5}}, \"type\": \"bar\"}], \"barpolar\": [{\"marker\": {\"line\": {\"color\": \"#E5ECF6\", \"width\": 0.5}}, \"type\": \"barpolar\"}], \"carpet\": [{\"aaxis\": {\"endlinecolor\": \"#2a3f5f\", \"gridcolor\": \"white\", \"linecolor\": \"white\", \"minorgridcolor\": \"white\", \"startlinecolor\": \"#2a3f5f\"}, \"baxis\": {\"endlinecolor\": \"#2a3f5f\", \"gridcolor\": \"white\", \"linecolor\": \"white\", \"minorgridcolor\": \"white\", \"startlinecolor\": \"#2a3f5f\"}, \"type\": \"carpet\"}], \"choropleth\": [{\"colorbar\": {\"outlinewidth\": 0, \"ticks\": \"\"}, \"type\": \"choropleth\"}], \"contour\": [{\"colorbar\": {\"outlinewidth\": 0, \"ticks\": \"\"}, \"colorscale\": [[0.0, \"#0d0887\"], [0.1111111111111111, \"#46039f\"], [0.2222222222222222, \"#7201a8\"], [0.3333333333333333, \"#9c179e\"], [0.4444444444444444, \"#bd3786\"], [0.5555555555555556, \"#d8576b\"], [0.6666666666666666, \"#ed7953\"], [0.7777777777777778, \"#fb9f3a\"], [0.8888888888888888, \"#fdca26\"], [1.0, \"#f0f921\"]], \"type\": \"contour\"}], \"contourcarpet\": [{\"colorbar\": {\"outlinewidth\": 0, \"ticks\": \"\"}, \"type\": \"contourcarpet\"}], \"heatmap\": [{\"colorbar\": {\"outlinewidth\": 0, \"ticks\": \"\"}, \"colorscale\": [[0.0, \"#0d0887\"], [0.1111111111111111, \"#46039f\"], [0.2222222222222222, \"#7201a8\"], [0.3333333333333333, \"#9c179e\"], [0.4444444444444444, \"#bd3786\"], [0.5555555555555556, \"#d8576b\"], [0.6666666666666666, \"#ed7953\"], [0.7777777777777778, \"#fb9f3a\"], [0.8888888888888888, \"#fdca26\"], [1.0, \"#f0f921\"]], \"type\": \"heatmap\"}], \"heatmapgl\": [{\"colorbar\": {\"outlinewidth\": 0, \"ticks\": \"\"}, \"colorscale\": [[0.0, \"#0d0887\"], [0.1111111111111111, \"#46039f\"], [0.2222222222222222, \"#7201a8\"], [0.3333333333333333, \"#9c179e\"], [0.4444444444444444, \"#bd3786\"], [0.5555555555555556, \"#d8576b\"], [0.6666666666666666, \"#ed7953\"], [0.7777777777777778, \"#fb9f3a\"], [0.8888888888888888, \"#fdca26\"], [1.0, \"#f0f921\"]], \"type\": \"heatmapgl\"}], \"histogram\": [{\"marker\": {\"colorbar\": {\"outlinewidth\": 0, \"ticks\": \"\"}}, \"type\": \"histogram\"}], \"histogram2d\": [{\"colorbar\": {\"outlinewidth\": 0, \"ticks\": \"\"}, \"colorscale\": [[0.0, \"#0d0887\"], [0.1111111111111111, \"#46039f\"], [0.2222222222222222, \"#7201a8\"], [0.3333333333333333, \"#9c179e\"], [0.4444444444444444, \"#bd3786\"], [0.5555555555555556, \"#d8576b\"], [0.6666666666666666, \"#ed7953\"], [0.7777777777777778, \"#fb9f3a\"], [0.8888888888888888, \"#fdca26\"], [1.0, \"#f0f921\"]], \"type\": \"histogram2d\"}], \"histogram2dcontour\": [{\"colorbar\": {\"outlinewidth\": 0, \"ticks\": \"\"}, \"colorscale\": [[0.0, \"#0d0887\"], [0.1111111111111111, \"#46039f\"], [0.2222222222222222, \"#7201a8\"], [0.3333333333333333, \"#9c179e\"], [0.4444444444444444, \"#bd3786\"], [0.5555555555555556, \"#d8576b\"], [0.6666666666666666, \"#ed7953\"], [0.7777777777777778, \"#fb9f3a\"], [0.8888888888888888, \"#fdca26\"], [1.0, \"#f0f921\"]], \"type\": \"histogram2dcontour\"}], \"mesh3d\": [{\"colorbar\": {\"outlinewidth\": 0, \"ticks\": \"\"}, \"type\": \"mesh3d\"}], \"parcoords\": [{\"line\": {\"colorbar\": {\"outlinewidth\": 0, \"ticks\": \"\"}}, \"type\": \"parcoords\"}], \"pie\": [{\"automargin\": true, \"type\": \"pie\"}], \"scatter\": [{\"marker\": {\"colorbar\": {\"outlinewidth\": 0, \"ticks\": \"\"}}, \"type\": \"scatter\"}], \"scatter3d\": [{\"line\": {\"colorbar\": {\"outlinewidth\": 0, \"ticks\": \"\"}}, \"marker\": {\"colorbar\": {\"outlinewidth\": 0, \"ticks\": \"\"}}, \"type\": \"scatter3d\"}], \"scattercarpet\": [{\"marker\": {\"colorbar\": {\"outlinewidth\": 0, \"ticks\": \"\"}}, \"type\": \"scattercarpet\"}], \"scattergeo\": [{\"marker\": {\"colorbar\": {\"outlinewidth\": 0, \"ticks\": \"\"}}, \"type\": \"scattergeo\"}], \"scattergl\": [{\"marker\": {\"colorbar\": {\"outlinewidth\": 0, \"ticks\": \"\"}}, \"type\": \"scattergl\"}], \"scattermapbox\": [{\"marker\": {\"colorbar\": {\"outlinewidth\": 0, \"ticks\": \"\"}}, \"type\": \"scattermapbox\"}], \"scatterpolar\": [{\"marker\": {\"colorbar\": {\"outlinewidth\": 0, \"ticks\": \"\"}}, \"type\": \"scatterpolar\"}], \"scatterpolargl\": [{\"marker\": {\"colorbar\": {\"outlinewidth\": 0, \"ticks\": \"\"}}, \"type\": \"scatterpolargl\"}], \"scatterternary\": [{\"marker\": {\"colorbar\": {\"outlinewidth\": 0, \"ticks\": \"\"}}, \"type\": \"scatterternary\"}], \"surface\": [{\"colorbar\": {\"outlinewidth\": 0, \"ticks\": \"\"}, \"colorscale\": [[0.0, \"#0d0887\"], [0.1111111111111111, \"#46039f\"], [0.2222222222222222, \"#7201a8\"], [0.3333333333333333, \"#9c179e\"], [0.4444444444444444, \"#bd3786\"], [0.5555555555555556, \"#d8576b\"], [0.6666666666666666, \"#ed7953\"], [0.7777777777777778, \"#fb9f3a\"], [0.8888888888888888, \"#fdca26\"], [1.0, \"#f0f921\"]], \"type\": \"surface\"}], \"table\": [{\"cells\": {\"fill\": {\"color\": \"#EBF0F8\"}, \"line\": {\"color\": \"white\"}}, \"header\": {\"fill\": {\"color\": \"#C8D4E3\"}, \"line\": {\"color\": \"white\"}}, \"type\": \"table\"}]}, \"layout\": {\"annotationdefaults\": {\"arrowcolor\": \"#2a3f5f\", \"arrowhead\": 0, \"arrowwidth\": 1}, \"coloraxis\": {\"colorbar\": {\"outlinewidth\": 0, \"ticks\": \"\"}}, \"colorscale\": {\"diverging\": [[0, \"#8e0152\"], [0.1, \"#c51b7d\"], [0.2, \"#de77ae\"], [0.3, \"#f1b6da\"], [0.4, \"#fde0ef\"], [0.5, \"#f7f7f7\"], [0.6, \"#e6f5d0\"], [0.7, \"#b8e186\"], [0.8, \"#7fbc41\"], [0.9, \"#4d9221\"], [1, \"#276419\"]], \"sequential\": [[0.0, \"#0d0887\"], [0.1111111111111111, \"#46039f\"], [0.2222222222222222, \"#7201a8\"], [0.3333333333333333, \"#9c179e\"], [0.4444444444444444, \"#bd3786\"], [0.5555555555555556, \"#d8576b\"], [0.6666666666666666, \"#ed7953\"], [0.7777777777777778, \"#fb9f3a\"], [0.8888888888888888, \"#fdca26\"], [1.0, \"#f0f921\"]], \"sequentialminus\": [[0.0, \"#0d0887\"], [0.1111111111111111, \"#46039f\"], [0.2222222222222222, \"#7201a8\"], [0.3333333333333333, \"#9c179e\"], [0.4444444444444444, \"#bd3786\"], [0.5555555555555556, \"#d8576b\"], [0.6666666666666666, \"#ed7953\"], [0.7777777777777778, \"#fb9f3a\"], [0.8888888888888888, \"#fdca26\"], [1.0, \"#f0f921\"]]}, \"colorway\": [\"#636efa\", \"#EF553B\", \"#00cc96\", \"#ab63fa\", \"#FFA15A\", \"#19d3f3\", \"#FF6692\", \"#B6E880\", \"#FF97FF\", \"#FECB52\"], \"font\": {\"color\": \"#2a3f5f\"}, \"geo\": {\"bgcolor\": \"white\", \"lakecolor\": \"white\", \"landcolor\": \"#E5ECF6\", \"showlakes\": true, \"showland\": true, \"subunitcolor\": \"white\"}, \"hoverlabel\": {\"align\": \"left\"}, \"hovermode\": \"closest\", \"mapbox\": {\"style\": \"light\"}, \"paper_bgcolor\": \"white\", \"plot_bgcolor\": \"#E5ECF6\", \"polar\": {\"angularaxis\": {\"gridcolor\": \"white\", \"linecolor\": \"white\", \"ticks\": \"\"}, \"bgcolor\": \"#E5ECF6\", \"radialaxis\": {\"gridcolor\": \"white\", \"linecolor\": \"white\", \"ticks\": \"\"}}, \"scene\": {\"xaxis\": {\"backgroundcolor\": \"#E5ECF6\", \"gridcolor\": \"white\", \"gridwidth\": 2, \"linecolor\": \"white\", \"showbackground\": true, \"ticks\": \"\", \"zerolinecolor\": \"white\"}, \"yaxis\": {\"backgroundcolor\": \"#E5ECF6\", \"gridcolor\": \"white\", \"gridwidth\": 2, \"linecolor\": \"white\", \"showbackground\": true, \"ticks\": \"\", \"zerolinecolor\": \"white\"}, \"zaxis\": {\"backgroundcolor\": \"#E5ECF6\", \"gridcolor\": \"white\", \"gridwidth\": 2, \"linecolor\": \"white\", \"showbackground\": true, \"ticks\": \"\", \"zerolinecolor\": \"white\"}}, \"shapedefaults\": {\"line\": {\"color\": \"#2a3f5f\"}}, \"ternary\": {\"aaxis\": {\"gridcolor\": \"white\", \"linecolor\": \"white\", \"ticks\": \"\"}, \"baxis\": {\"gridcolor\": \"white\", \"linecolor\": \"white\", \"ticks\": \"\"}, \"bgcolor\": \"#E5ECF6\", \"caxis\": {\"gridcolor\": \"white\", \"linecolor\": \"white\", \"ticks\": \"\"}}, \"title\": {\"x\": 0.05}, \"xaxis\": {\"automargin\": true, \"gridcolor\": \"white\", \"linecolor\": \"white\", \"ticks\": \"\", \"title\": {\"standoff\": 15}, \"zerolinecolor\": \"white\", \"zerolinewidth\": 2}, \"yaxis\": {\"automargin\": true, \"gridcolor\": \"white\", \"linecolor\": \"white\", \"ticks\": \"\", \"title\": {\"standoff\": 15}, \"zerolinecolor\": \"white\", \"zerolinewidth\": 2}}}, \"title\": {\"text\": \"Corona virus TotalCase greater than 5000\"}, \"xaxis\": {\"tickfont\": {\"size\": 14}}, \"yaxis\": {\"tickfont\": {\"size\": 14}, \"title\": {\"font\": {\"size\": 16}, \"text\": \"COUNT\"}}},\n",
       "                        {\"responsive\": true}\n",
       "                    ).then(function(){\n",
       "                            \n",
       "var gd = document.getElementById('0ad2b1ca-aa13-4fe6-9624-fc9f4b164c19');\n",
       "var x = new MutationObserver(function (mutations, observer) {{\n",
       "        var display = window.getComputedStyle(gd).display;\n",
       "        if (!display || display === 'none') {{\n",
       "            console.log([gd, 'removed!']);\n",
       "            Plotly.purge(gd);\n",
       "            observer.disconnect();\n",
       "        }}\n",
       "}});\n",
       "\n",
       "// Listen for the removal of the full notebook cells\n",
       "var notebookContainer = gd.closest('#notebook-container');\n",
       "if (notebookContainer) {{\n",
       "    x.observe(notebookContainer, {childList: true});\n",
       "}}\n",
       "\n",
       "// Listen for the clearing of the current output cell\n",
       "var outputEl = gd.closest('.output');\n",
       "if (outputEl) {{\n",
       "    x.observe(outputEl, {childList: true});\n",
       "}}\n",
       "\n",
       "                        })\n",
       "                };\n",
       "                });\n",
       "            </script>\n",
       "        </div>"
      ]
     },
     "metadata": {},
     "output_type": "display_data"
    }
   ],
   "source": [
    "fig = go.Figure()\n",
    "fig.add_trace(go.Bar(\n",
    "    x=corona[\"Country,Other\"][corona.TotalCases>=5000],\n",
    "    y=corona.TotalCases[corona.TotalCases>=5000],\n",
    "    name='TotalCases',\n",
    "    marker_color='#636EFA',\n",
    "    text=corona.TotalCases[corona.TotalCases>=5000],\n",
    "    textposition='auto'\n",
    "))\n",
    "fig.add_trace(go.Bar(\n",
    "    x=corona[\"Country,Other\"][corona.TotalCases>=5000],\n",
    "    y=corona[\"TotalRecovered\"][corona.TotalCases>=5000],\n",
    "    name='TotalRecovered',\n",
    "    marker_color='#2ca02c',\n",
    "    text=corona.TotalRecovered[corona.TotalCases>=5000],\n",
    "    textposition='auto'\n",
    "))\n",
    "\n",
    "fig.add_trace(go.Bar(\n",
    "    x=corona[\"Country,Other\"][corona.TotalCases>=5000],\n",
    "    y=corona.TotalDeaths[corona.TotalCases>=5000],\n",
    "    name='TotalDeaths',\n",
    "    marker_color='#EF553B',\n",
    "    text=corona.TotalDeaths[corona.TotalCases>=5000],\n",
    "    textposition='auto'\n",
    "))\n",
    "fig.update_layout(title_text='Corona virus TotalCase greater than 5000',xaxis_tickfont_size=14,\n",
    "    yaxis=dict(\n",
    "        title='COUNT',\n",
    "        titlefont_size=16,\n",
    "        tickfont_size=14))\n",
    "fig.show()"
   ]
  },
  {
   "cell_type": "markdown",
   "metadata": {},
   "source": [
    "Data diatas menunjukkan data statistik negara dengan jumlah kasus Covid-19 lebih dari 5000 sampai 8 April 2020. Terlihat bahwa negara Amerika Serikat memiliki jumlah kasus Covid-19 terbanyak yaitu sebesar 400546. Berbeda jauh dengan China sebagai negara asal virus tersebut. China bahkan menjadi negara dengan persentase kesembuhan terbesar di dunia.\t"
   ]
  },
  {
   "cell_type": "code",
   "execution_count": 38,
   "metadata": {},
   "outputs": [
    {
     "data": {
      "image/png": "[encoded data removed]",
      "text/plain": [
       "<Figure size 1152x576 with 1 Axes>"
      ]
     },
     "metadata": {
      "needs_background": "light"
     },
     "output_type": "display_data"
    }
   ],
   "source": [
    "corona['death_rate']=corona['TotalDeaths']/corona['TotalCases']\n",
    "plt.figure(figsize=(16,8))\n",
    "p1 = sns.distplot(corona.loc[corona['death_rate']>0,'death_rate'], kde=True, rug=True)"
   ]
  },
  {
   "cell_type": "markdown",
   "metadata": {},
   "source": [
    "Tingkat kematian kasus Covid-19 di beberapa negara berada di bawah 5%"
   ]
  },
  {
   "cell_type": "markdown",
   "metadata": {},
   "source": [
    "## Berikut Peta Intensitas Kasus Covid-19 di Seluruh Dunia"
   ]
  },
  {
   "cell_type": "code",
   "execution_count": 40,
   "metadata": {},
   "outputs": [
    {
     "data": {
      "application/vnd.plotly.v1+json": {
       "config": {
        "plotlyServerURL": "https://plot.ly"
       },
       "data": [
        {
         "autocolorscale": false,
         "colorscale": [
          [
           0,
           "rgb(150,0,90)"
          ],
          [
           0.125,
           "rgb(0,0,200)"
          ],
          [
           0.25,
           "rgb(0,25,255)"
          ],
          [
           0.375,
           "rgb(0,152,255)"
          ],
          [
           0.5,
           "rgb(44,255,150)"
          ],
          [
           0.625,
           "rgb(151,255,0)"
          ],
          [
           0.75,
           "rgb(255,234,0)"
          ],
          [
           0.875,
           "rgb(255,111,0)"
          ],
          [
           1,
           "rgb(255,0,0)"
          ]
         ],
         "geo": "geo",
         "locationmode": "country names",
         "locations": [
          "USA",
          "Spain",
          "Italy",
          "France",
          "Germany",
          "China",
          "Iran",
          "UK",
          "Turkey",
          "Switzerland",
          "Belgium",
          "Netherlands",
          "Canada",
          "Brazil",
          "Austria",
          "Portugal",
          "S. Korea",
          "Israel",
          "Sweden",
          "Russia",
          "Norway",
          "Australia",
          "Ireland",
          "India",
          "Chile",
          "Denmark",
          "Czechia",
          "Poland",
          "Romania",
          "Japan",
          "Pakistan",
          "Ecuador",
          "Malaysia",
          "Philippines",
          "Luxembourg",
          "Peru",
          "Saudi Arabia",
          "Mexico",
          "Indonesia",
          "Finland",
          "Serbia",
          "Thailand",
          "UAE",
          "Panama",
          "Qatar",
          "Dominican Republic",
          "Greece",
          "Colombia",
          "South Africa",
          "Argentina",
          "Ukraine",
          "Iceland",
          "Singapore",
          "Algeria",
          "Egypt",
          "Croatia",
          "New Zealand",
          "Morocco",
          "Estonia",
          "Iraq",
          "Slovenia",
          "Moldova",
          "Hong Kong",
          "Lithuania",
          "Hungary",
          "Armenia",
          "Belarus",
          "Bahrain",
          "Bosnia and Herzegovina",
          "Kuwait",
          "Azerbaijan",
          "Diamond Princess",
          "Kazakhstan",
          "Cameroon",
          "Tunisia",
          "North Macedonia",
          "Bulgaria",
          "Slovakia",
          "Lebanon",
          "Latvia",
          "Andorra",
          "Uzbekistan",
          "Cyprus",
          "Costa Rica",
          "Uruguay",
          "Afghanistan",
          "Oman",
          "Cuba",
          "Burkina Faso",
          "Albania",
          "Taiwan",
          "RÃ©union",
          "Jordan",
          "Ivory Coast",
          "Channel Islands",
          "Honduras",
          "Malta",
          "Ghana",
          "San Marino",
          "Niger",
          "Kyrgyzstan",
          "Mauritius",
          "Palestine",
          "Nigeria",
          "Vietnam",
          "Montenegro",
          "Senegal",
          "Bolivia",
          "Georgia",
          "Sri Lanka",
          "Faeroe Islands",
          "DRC",
          "Kenya",
          "Mayotte",
          "Venezuela",
          "Bangladesh",
          "Martinique",
          "Isle of Man",
          "Guinea",
          "Guadeloupe",
          "Brunei",
          "Paraguay",
          "Cambodia",
          "Gibraltar",
          "Trinidad and Tobago",
          "Rwanda",
          "El Salvador",
          "Djibouti",
          "Madagascar",
          "Guatemala",
          "Monaco",
          "Liechtenstein",
          "French Guiana",
          "Aruba",
          "Togo",
          "Barbados",
          "Jamaica",
          "Mali",
          "Uganda",
          "Ethiopia",
          "French Polynesia",
          "Congo",
          "Cayman Islands",
          "Macao",
          "Sint Maarten",
          "Bermuda",
          "Zambia",
          "Bahamas",
          "Guyana",
          "Guinea-Bissau",
          "Saint Martin",
          "Eritrea",
          "Gabon",
          "Benin",
          "Haiti",
          "Tanzania",
          "Myanmar",
          "Libya",
          "Antigua and Barbuda",
          "Syria",
          "Maldives",
          "New Caledonia",
          "Angola",
          "Namibia",
          "Equatorial Guinea",
          "Mongolia",
          "Fiji",
          "Dominica",
          "Liberia",
          "Laos",
          "Saint Lucia",
          "Sudan",
          "CuraÃ§ao",
          "Grenada",
          "Zimbabwe",
          "Greenland",
          "Saint Kitts and Nevis",
          "Seychelles",
          "Eswatini",
          "Suriname",
          "Mozambique",
          "Chad",
          "MS Zaandam",
          "Nepal",
          "Montserrat",
          "Somalia",
          "St. Vincent Grenadines",
          "CAR",
          "Turks and Caicos",
          "Malawi",
          "Belize",
          "Vatican City",
          "Cabo Verde",
          "Botswana",
          "Nicaragua",
          "St. Barth",
          "Sierra Leone",
          "Mauritania",
          "Bhutan",
          "Western Sahara",
          "Sao Tome and Principe",
          "Gambia",
          "Anguilla",
          "Burundi",
          "British Virgin Islands",
          "Caribbean Netherlands",
          "Falkland Islands",
          "Papua New Guinea",
          "South Sudan",
          "Saint Pierre Miquelon",
          "Timor-Leste"
         ],
         "showscale": true,
         "text": [
          "USA",
          "Spain",
          "Italy",
          "France",
          "Germany",
          "China",
          "Iran",
          "UK",
          "Turkey",
          "Switzerland",
          "Belgium",
          "Netherlands",
          "Canada",
          "Brazil",
          "Austria",
          "Portugal",
          "S. Korea",
          "Israel",
          "Sweden",
          "Russia",
          "Norway",
          "Australia",
          "Ireland",
          "India",
          "Chile",
          "Denmark",
          "Czechia",
          "Poland",
          "Romania",
          "Japan",
          "Pakistan",
          "Ecuador",
          "Malaysia",
          "Philippines",
          "Luxembourg",
          "Peru",
          "Saudi Arabia",
          "Mexico",
          "Indonesia",
          "Finland",
          "Serbia",
          "Thailand",
          "UAE",
          "Panama",
          "Qatar",
          "Dominican Republic",
          "Greece",
          "Colombia",
          "South Africa",
          "Argentina",
          "Ukraine",
          "Iceland",
          "Singapore",
          "Algeria",
          "Egypt",
          "Croatia",
          "New Zealand",
          "Morocco",
          "Estonia",
          "Iraq",
          "Slovenia",
          "Moldova",
          "Hong Kong",
          "Lithuania",
          "Hungary",
          "Armenia",
          "Belarus",
          "Bahrain",
          "Bosnia and Herzegovina",
          "Kuwait",
          "Azerbaijan",
          "Diamond Princess",
          "Kazakhstan",
          "Cameroon",
          "Tunisia",
          "North Macedonia",
          "Bulgaria",
          "Slovakia",
          "Lebanon",
          "Latvia",
          "Andorra",
          "Uzbekistan",
          "Cyprus",
          "Costa Rica",
          "Uruguay",
          "Afghanistan",
          "Oman",
          "Cuba",
          "Burkina Faso",
          "Albania",
          "Taiwan",
          "RÃ©union",
          "Jordan",
          "Ivory Coast",
          "Channel Islands",
          "Honduras",
          "Malta",
          "Ghana",
          "San Marino",
          "Niger",
          "Kyrgyzstan",
          "Mauritius",
          "Palestine",
          "Nigeria",
          "Vietnam",
          "Montenegro",
          "Senegal",
          "Bolivia",
          "Georgia",
          "Sri Lanka",
          "Faeroe Islands",
          "DRC",
          "Kenya",
          "Mayotte",
          "Venezuela",
          "Bangladesh",
          "Martinique",
          "Isle of Man",
          "Guinea",
          "Guadeloupe",
          "Brunei",
          "Paraguay",
          "Cambodia",
          "Gibraltar",
          "Trinidad and Tobago",
          "Rwanda",
          "El Salvador",
          "Djibouti",
          "Madagascar",
          "Guatemala",
          "Monaco",
          "Liechtenstein",
          "French Guiana",
          "Aruba",
          "Togo",
          "Barbados",
          "Jamaica",
          "Mali",
          "Uganda",
          "Ethiopia",
          "French Polynesia",
          "Congo",
          "Cayman Islands",
          "Macao",
          "Sint Maarten",
          "Bermuda",
          "Zambia",
          "Bahamas",
          "Guyana",
          "Guinea-Bissau",
          "Saint Martin",
          "Eritrea",
          "Gabon",
          "Benin",
          "Haiti",
          "Tanzania",
          "Myanmar",
          "Libya",
          "Antigua and Barbuda",
          "Syria",
          "Maldives",
          "New Caledonia",
          "Angola",
          "Namibia",
          "Equatorial Guinea",
          "Mongolia",
          "Fiji",
          "Dominica",
          "Liberia",
          "Laos",
          "Saint Lucia",
          "Sudan",
          "CuraÃ§ao",
          "Grenada",
          "Zimbabwe",
          "Greenland",
          "Saint Kitts and Nevis",
          "Seychelles",
          "Eswatini",
          "Suriname",
          "Mozambique",
          "Chad",
          "MS Zaandam",
          "Nepal",
          "Montserrat",
          "Somalia",
          "St. Vincent Grenadines",
          "CAR",
          "Turks and Caicos",
          "Malawi",
          "Belize",
          "Vatican City",
          "Cabo Verde",
          "Botswana",
          "Nicaragua",
          "St. Barth",
          "Sierra Leone",
          "Mauritania",
          "Bhutan",
          "Western Sahara",
          "Sao Tome and Principe",
          "Gambia",
          "Anguilla",
          "Burundi",
          "British Virgin Islands",
          "Caribbean Netherlands",
          "Falkland Islands",
          "Papua New Guinea",
          "South Sudan",
          "Saint Pierre Miquelon",
          "Timor-Leste"
         ],
         "type": "choropleth",
         "z": [
          400546,
          141942,
          135586,
          109069,
          107663,
          81802,
          62589,
          55242,
          34109,
          22328,
          22194,
          19580,
          17897,
          14049,
          12709,
          12442,
          10384,
          9404,
          7693,
          7497,
          6086,
          6010,
          5709,
          5360,
          5116,
          5071,
          5033,
          4848,
          4417,
          4257,
          4072,
          3995,
          3963,
          3764,
          2970,
          2954,
          2795,
          2785,
          2738,
          2487,
          2447,
          2369,
          2359,
          2249,
          2057,
          1956,
          1832,
          1780,
          1749,
          1715,
          1668,
          1586,
          1481,
          1468,
          1450,
          1282,
          1210,
          1184,
          1149,
          1122,
          1059,
          1056,
          936,
          912,
          895,
          881,
          861,
          811,
          764,
          743,
          717,
          712,
          704,
          685,
          623,
          599,
          581,
          581,
          548,
          548,
          545,
          534,
          494,
          483,
          424,
          423,
          419,
          396,
          384,
          383,
          379,
          358,
          353,
          349,
          335,
          312,
          293,
          287,
          279,
          278,
          270,
          268,
          261,
          254,
          251,
          248,
          237,
          210,
          208,
          185,
          184,
          180,
          172,
          171,
          166,
          164,
          152,
          150,
          144,
          139,
          135,
          119,
          117,
          113,
          107,
          105,
          93,
          90,
          88,
          80,
          79,
          78,
          77,
          74,
          65,
          63,
          63,
          56,
          52,
          52,
          47,
          45,
          45,
          44,
          40,
          39,
          39,
          36,
          33,
          33,
          32,
          31,
          30,
          26,
          25,
          24,
          22,
          20,
          19,
          19,
          19,
          18,
          17,
          16,
          16,
          16,
          15,
          15,
          14,
          14,
          14,
          14,
          13,
          12,
          11,
          11,
          11,
          11,
          10,
          10,
          10,
          10,
          9,
          9,
          9,
          8,
          8,
          8,
          8,
          8,
          7,
          7,
          7,
          6,
          6,
          6,
          6,
          6,
          5,
          4,
          4,
          4,
          3,
          3,
          3,
          2,
          2,
          2,
          2,
          1,
          1
         ]
        }
       ],
       "layout": {
        "template": {
         "data": {
          "bar": [
           {
            "error_x": {
             "color": "#2a3f5f"
            },
            "error_y": {
             "color": "#2a3f5f"
            },
            "marker": {
             "line": {
              "color": "#E5ECF6",
              "width": 0.5
             }
            },
            "type": "bar"
           }
          ],
          "barpolar": [
           {
            "marker": {
             "line": {
              "color": "#E5ECF6",
              "width": 0.5
             }
            },
            "type": "barpolar"
           }
          ],
          "carpet": [
           {
            "aaxis": {
             "endlinecolor": "#2a3f5f",
             "gridcolor": "white",
             "linecolor": "white",
             "minorgridcolor": "white",
             "startlinecolor": "#2a3f5f"
            },
            "baxis": {
             "endlinecolor": "#2a3f5f",
             "gridcolor": "white",
             "linecolor": "white",
             "minorgridcolor": "white",
             "startlinecolor": "#2a3f5f"
            },
            "type": "carpet"
           }
          ],
          "choropleth": [
           {
            "colorbar": {
             "outlinewidth": 0,
             "ticks": ""
            },
            "type": "choropleth"
           }
          ],
          "contour": [
           {
            "colorbar": {
             "outlinewidth": 0,
             "ticks": ""
            },
            "colorscale": [
             [
              0,
              "#0d0887"
             ],
             [
              0.1111111111111111,
              "#46039f"
             ],
             [
              0.2222222222222222,
              "#7201a8"
             ],
             [
              0.3333333333333333,
              "#9c179e"
             ],
             [
              0.4444444444444444,
              "#bd3786"
             ],
             [
              0.5555555555555556,
              "#d8576b"
             ],
             [
              0.6666666666666666,
              "#ed7953"
             ],
             [
              0.7777777777777778,
              "#fb9f3a"
             ],
             [
              0.8888888888888888,
              "#fdca26"
             ],
             [
              1,
              "#f0f921"
             ]
            ],
            "type": "contour"
           }
          ],
          "contourcarpet": [
           {
            "colorbar": {
             "outlinewidth": 0,
             "ticks": ""
            },
            "type": "contourcarpet"
           }
          ],
          "heatmap": [
           {
            "colorbar": {
             "outlinewidth": 0,
             "ticks": ""
            },
            "colorscale": [
             [
              0,
              "#0d0887"
             ],
             [
              0.1111111111111111,
              "#46039f"
             ],
             [
              0.2222222222222222,
              "#7201a8"
             ],
             [
              0.3333333333333333,
              "#9c179e"
             ],
             [
              0.4444444444444444,
              "#bd3786"
             ],
             [
              0.5555555555555556,
              "#d8576b"
             ],
             [
              0.6666666666666666,
              "#ed7953"
             ],
             [
              0.7777777777777778,
              "#fb9f3a"
             ],
             [
              0.8888888888888888,
              "#fdca26"
             ],
             [
              1,
              "#f0f921"
             ]
            ],
            "type": "heatmap"
           }
          ],
          "heatmapgl": [
           {
            "colorbar": {
             "outlinewidth": 0,
             "ticks": ""
            },
            "colorscale": [
             [
              0,
              "#0d0887"
             ],
             [
              0.1111111111111111,
              "#46039f"
             ],
             [
              0.2222222222222222,
              "#7201a8"
             ],
             [
              0.3333333333333333,
              "#9c179e"
             ],
             [
              0.4444444444444444,
              "#bd3786"
             ],
             [
              0.5555555555555556,
              "#d8576b"
             ],
             [
              0.6666666666666666,
              "#ed7953"
             ],
             [
              0.7777777777777778,
              "#fb9f3a"
             ],
             [
              0.8888888888888888,
              "#fdca26"
             ],
             [
              1,
              "#f0f921"
             ]
            ],
            "type": "heatmapgl"
           }
          ],
          "histogram": [
           {
            "marker": {
             "colorbar": {
              "outlinewidth": 0,
              "ticks": ""
             }
            },
            "type": "histogram"
           }
          ],
          "histogram2d": [
           {
            "colorbar": {
             "outlinewidth": 0,
             "ticks": ""
            },
            "colorscale": [
             [
              0,
              "#0d0887"
             ],
             [
              0.1111111111111111,
              "#46039f"
             ],
             [
              0.2222222222222222,
              "#7201a8"
             ],
             [
              0.3333333333333333,
              "#9c179e"
             ],
             [
              0.4444444444444444,
              "#bd3786"
             ],
             [
              0.5555555555555556,
              "#d8576b"
             ],
             [
              0.6666666666666666,
              "#ed7953"
             ],
             [
              0.7777777777777778,
              "#fb9f3a"
             ],
             [
              0.8888888888888888,
              "#fdca26"
             ],
             [
              1,
              "#f0f921"
             ]
            ],
            "type": "histogram2d"
           }
          ],
          "histogram2dcontour": [
           {
            "colorbar": {
             "outlinewidth": 0,
             "ticks": ""
            },
            "colorscale": [
             [
              0,
              "#0d0887"
             ],
             [
              0.1111111111111111,
              "#46039f"
             ],
             [
              0.2222222222222222,
              "#7201a8"
             ],
             [
              0.3333333333333333,
              "#9c179e"
             ],
             [
              0.4444444444444444,
              "#bd3786"
             ],
             [
              0.5555555555555556,
              "#d8576b"
             ],
             [
              0.6666666666666666,
              "#ed7953"
             ],
             [
              0.7777777777777778,
              "#fb9f3a"
             ],
             [
              0.8888888888888888,
              "#fdca26"
             ],
             [
              1,
              "#f0f921"
             ]
            ],
            "type": "histogram2dcontour"
           }
          ],
          "mesh3d": [
           {
            "colorbar": {
             "outlinewidth": 0,
             "ticks": ""
            },
            "type": "mesh3d"
           }
          ],
          "parcoords": [
           {
            "line": {
             "colorbar": {
              "outlinewidth": 0,
              "ticks": ""
             }
            },
            "type": "parcoords"
           }
          ],
          "pie": [
           {
            "automargin": true,
            "type": "pie"
           }
          ],
          "scatter": [
           {
            "marker": {
             "colorbar": {
              "outlinewidth": 0,
              "ticks": ""
             }
            },
            "type": "scatter"
           }
          ],
          "scatter3d": [
           {
            "line": {
             "colorbar": {
              "outlinewidth": 0,
              "ticks": ""
             }
            },
            "marker": {
             "colorbar": {
              "outlinewidth": 0,
              "ticks": ""
             }
            },
            "type": "scatter3d"
           }
          ],
          "scattercarpet": [
           {
            "marker": {
             "colorbar": {
              "outlinewidth": 0,
              "ticks": ""
             }
            },
            "type": "scattercarpet"
           }
          ],
          "scattergeo": [
           {
            "marker": {
             "colorbar": {
              "outlinewidth": 0,
              "ticks": ""
             }
            },
            "type": "scattergeo"
           }
          ],
          "scattergl": [
           {
            "marker": {
             "colorbar": {
              "outlinewidth": 0,
              "ticks": ""
             }
            },
            "type": "scattergl"
           }
          ],
          "scattermapbox": [
           {
            "marker": {
             "colorbar": {
              "outlinewidth": 0,
              "ticks": ""
             }
            },
            "type": "scattermapbox"
           }
          ],
          "scatterpolar": [
           {
            "marker": {
             "colorbar": {
              "outlinewidth": 0,
              "ticks": ""
             }
            },
            "type": "scatterpolar"
           }
          ],
          "scatterpolargl": [
           {
            "marker": {
             "colorbar": {
              "outlinewidth": 0,
              "ticks": ""
             }
            },
            "type": "scatterpolargl"
           }
          ],
          "scatterternary": [
           {
            "marker": {
             "colorbar": {
              "outlinewidth": 0,
              "ticks": ""
             }
            },
            "type": "scatterternary"
           }
          ],
          "surface": [
           {
            "colorbar": {
             "outlinewidth": 0,
             "ticks": ""
            },
            "colorscale": [
             [
              0,
              "#0d0887"
             ],
             [
              0.1111111111111111,
              "#46039f"
             ],
             [
              0.2222222222222222,
              "#7201a8"
             ],
             [
              0.3333333333333333,
              "#9c179e"
             ],
             [
              0.4444444444444444,
              "#bd3786"
             ],
             [
              0.5555555555555556,
              "#d8576b"
             ],
             [
              0.6666666666666666,
              "#ed7953"
             ],
             [
              0.7777777777777778,
              "#fb9f3a"
             ],
             [
              0.8888888888888888,
              "#fdca26"
             ],
             [
              1,
              "#f0f921"
             ]
            ],
            "type": "surface"
           }
          ],
          "table": [
           {
            "cells": {
             "fill": {
              "color": "#EBF0F8"
             },
             "line": {
              "color": "white"
             }
            },
            "header": {
             "fill": {
              "color": "#C8D4E3"
             },
             "line": {
              "color": "white"
             }
            },
            "type": "table"
           }
          ]
         },
         "layout": {
          "annotationdefaults": {
           "arrowcolor": "#2a3f5f",
           "arrowhead": 0,
           "arrowwidth": 1
          },
          "coloraxis": {
           "colorbar": {
            "outlinewidth": 0,
            "ticks": ""
           }
          },
          "colorscale": {
           "diverging": [
            [
             0,
             "#8e0152"
            ],
            [
             0.1,
             "#c51b7d"
            ],
            [
             0.2,
             "#de77ae"
            ],
            [
             0.3,
             "#f1b6da"
            ],
            [
             0.4,
             "#fde0ef"
            ],
            [
             0.5,
             "#f7f7f7"
            ],
            [
             0.6,
             "#e6f5d0"
            ],
            [
             0.7,
             "#b8e186"
            ],
            [
             0.8,
             "#7fbc41"
            ],
            [
             0.9,
             "#4d9221"
            ],
            [
             1,
             "#276419"
            ]
           ],
           "sequential": [
            [
             0,
             "#0d0887"
            ],
            [
             0.1111111111111111,
             "#46039f"
            ],
            [
             0.2222222222222222,
             "#7201a8"
            ],
            [
             0.3333333333333333,
             "#9c179e"
            ],
            [
             0.4444444444444444,
             "#bd3786"
            ],
            [
             0.5555555555555556,
             "#d8576b"
            ],
            [
             0.6666666666666666,
             "#ed7953"
            ],
            [
             0.7777777777777778,
             "#fb9f3a"
            ],
            [
             0.8888888888888888,
             "#fdca26"
            ],
            [
             1,
             "#f0f921"
            ]
           ],
           "sequentialminus": [
            [
             0,
             "#0d0887"
            ],
            [
             0.1111111111111111,
             "#46039f"
            ],
            [
             0.2222222222222222,
             "#7201a8"
            ],
            [
             0.3333333333333333,
             "#9c179e"
            ],
            [
             0.4444444444444444,
             "#bd3786"
            ],
            [
             0.5555555555555556,
             "#d8576b"
            ],
            [
             0.6666666666666666,
             "#ed7953"
            ],
            [
             0.7777777777777778,
             "#fb9f3a"
            ],
            [
             0.8888888888888888,
             "#fdca26"
            ],
            [
             1,
             "#f0f921"
            ]
           ]
          },
          "colorway": [
           "#636efa",
           "#EF553B",
           "#00cc96",
           "#ab63fa",
           "#FFA15A",
           "#19d3f3",
           "#FF6692",
           "#B6E880",
           "#FF97FF",
           "#FECB52"
          ],
          "font": {
           "color": "#2a3f5f"
          },
          "geo": {
           "bgcolor": "white",
           "lakecolor": "white",
           "landcolor": "#E5ECF6",
           "showlakes": true,
           "showland": true,
           "subunitcolor": "white"
          },
          "hoverlabel": {
           "align": "left"
          },
          "hovermode": "closest",
          "mapbox": {
           "style": "light"
          },
          "paper_bgcolor": "white",
          "plot_bgcolor": "#E5ECF6",
          "polar": {
           "angularaxis": {
            "gridcolor": "white",
            "linecolor": "white",
            "ticks": ""
           },
           "bgcolor": "#E5ECF6",
           "radialaxis": {
            "gridcolor": "white",
            "linecolor": "white",
            "ticks": ""
           }
          },
          "scene": {
           "xaxis": {
            "backgroundcolor": "#E5ECF6",
            "gridcolor": "white",
            "gridwidth": 2,
            "linecolor": "white",
            "showbackground": true,
            "ticks": "",
            "zerolinecolor": "white"
           },
           "yaxis": {
            "backgroundcolor": "#E5ECF6",
            "gridcolor": "white",
            "gridwidth": 2,
            "linecolor": "white",
            "showbackground": true,
            "ticks": "",
            "zerolinecolor": "white"
           },
           "zaxis": {
            "backgroundcolor": "#E5ECF6",
            "gridcolor": "white",
            "gridwidth": 2,
            "linecolor": "white",
            "showbackground": true,
            "ticks": "",
            "zerolinecolor": "white"
           }
          },
          "shapedefaults": {
           "line": {
            "color": "#2a3f5f"
           }
          },
          "ternary": {
           "aaxis": {
            "gridcolor": "white",
            "linecolor": "white",
            "ticks": ""
           },
           "baxis": {
            "gridcolor": "white",
            "linecolor": "white",
            "ticks": ""
           },
           "bgcolor": "#E5ECF6",
           "caxis": {
            "gridcolor": "white",
            "linecolor": "white",
            "ticks": ""
           }
          },
          "title": {
           "x": 0.05
          },
          "xaxis": {
           "automargin": true,
           "gridcolor": "white",
           "linecolor": "white",
           "ticks": "",
           "title": {
            "standoff": 15
           },
           "zerolinecolor": "white",
           "zerolinewidth": 2
          },
          "yaxis": {
           "automargin": true,
           "gridcolor": "white",
           "linecolor": "white",
           "ticks": "",
           "title": {
            "standoff": 15
           },
           "zerolinecolor": "white",
           "zerolinewidth": 2
          }
         }
        }
       }
      },
      "text/html": [
       "<div>\n",
       "        \n",
       "        \n",
       "            <div id=\"29cc6f42-1b9a-47f0-ab38-b78f6a1970b0\" class=\"plotly-graph-div\" style=\"height:525px; width:100%;\"></div>\n",
       "            <script type=\"text/javascript\">\n",
       "                require([\"plotly\"], function(Plotly) {\n",
       "                    window.PLOTLYENV=window.PLOTLYENV || {};\n",
       "                    \n",
       "                if (document.getElementById(\"29cc6f42-1b9a-47f0-ab38-b78f6a1970b0\")) {\n",
       "                    Plotly.newPlot(\n",
       "                        '29cc6f42-1b9a-47f0-ab38-b78f6a1970b0',\n",
       "                        [{\"autocolorscale\": false, \"colorscale\": [[0.0, \"rgb(150,0,90)\"], [0.125, \"rgb(0,0,200)\"], [0.25, \"rgb(0,25,255)\"], [0.375, \"rgb(0,152,255)\"], [0.5, \"rgb(44,255,150)\"], [0.625, \"rgb(151,255,0)\"], [0.75, \"rgb(255,234,0)\"], [0.875, \"rgb(255,111,0)\"], [1.0, \"rgb(255,0,0)\"]], \"geo\": \"geo\", \"locationmode\": \"country names\", \"locations\": [\"USA\", \"Spain\", \"Italy\", \"France\", \"Germany\", \"China\", \"Iran\", \"UK\", \"Turkey\", \"Switzerland\", \"Belgium\", \"Netherlands\", \"Canada\", \"Brazil\", \"Austria\", \"Portugal\", \"S. Korea\", \"Israel\", \"Sweden\", \"Russia\", \"Norway\", \"Australia\", \"Ireland\", \"India\", \"Chile\", \"Denmark\", \"Czechia\", \"Poland\", \"Romania\", \"Japan\", \"Pakistan\", \"Ecuador\", \"Malaysia\", \"Philippines\", \"Luxembourg\", \"Peru\", \"Saudi Arabia\", \"Mexico\", \"Indonesia\", \"Finland\", \"Serbia\", \"Thailand\", \"UAE\", \"Panama\", \"Qatar\", \"Dominican Republic\", \"Greece\", \"Colombia\", \"South Africa\", \"Argentina\", \"Ukraine\", \"Iceland\", \"Singapore\", \"Algeria\", \"Egypt\", \"Croatia\", \"New Zealand\", \"Morocco\", \"Estonia\", \"Iraq\", \"Slovenia\", \"Moldova\", \"Hong Kong\", \"Lithuania\", \"Hungary\", \"Armenia\", \"Belarus\", \"Bahrain\", \"Bosnia and Herzegovina\", \"Kuwait\", \"Azerbaijan\", \"Diamond Princess\", \"Kazakhstan\", \"Cameroon\", \"Tunisia\", \"North Macedonia\", \"Bulgaria\", \"Slovakia\", \"Lebanon\", \"Latvia\", \"Andorra\", \"Uzbekistan\", \"Cyprus\", \"Costa Rica\", \"Uruguay\", \"Afghanistan\", \"Oman\", \"Cuba\", \"Burkina Faso\", \"Albania\", \"Taiwan\", \"R\\u00c3\\u00a9union\", \"Jordan\", \"Ivory Coast\", \"Channel Islands\", \"Honduras\", \"Malta\", \"Ghana\", \"San Marino\", \"Niger\", \"Kyrgyzstan\", \"Mauritius\", \"Palestine\", \"Nigeria\", \"Vietnam\", \"Montenegro\", \"Senegal\", \"Bolivia\", \"Georgia\", \"Sri Lanka\", \"Faeroe Islands\", \"DRC\", \"Kenya\", \"Mayotte\", \"Venezuela\", \"Bangladesh\", \"Martinique\", \"Isle of Man\", \"Guinea\", \"Guadeloupe\", \"Brunei\", \"Paraguay\", \"Cambodia\", \"Gibraltar\", \"Trinidad and Tobago\", \"Rwanda\", \"El Salvador\", \"Djibouti\", \"Madagascar\", \"Guatemala\", \"Monaco\", \"Liechtenstein\", \"French Guiana\", \"Aruba\", \"Togo\", \"Barbados\", \"Jamaica\", \"Mali\", \"Uganda\", \"Ethiopia\", \"French Polynesia\", \"Congo\", \"Cayman Islands\", \"Macao\", \"Sint Maarten\", \"Bermuda\", \"Zambia\", \"Bahamas\", \"Guyana\", \"Guinea-Bissau\", \"Saint Martin\", \"Eritrea\", \"Gabon\", \"Benin\", \"Haiti\", \"Tanzania\", \"Myanmar\", \"Libya\", \"Antigua and Barbuda\", \"Syria\", \"Maldives\", \"New Caledonia\", \"Angola\", \"Namibia\", \"Equatorial Guinea\", \"Mongolia\", \"Fiji\", \"Dominica\", \"Liberia\", \"Laos\", \"Saint Lucia\", \"Sudan\", \"Cura\\u00c3\\u00a7ao\", \"Grenada\", \"Zimbabwe\", \"Greenland\", \"Saint Kitts and Nevis\", \"Seychelles\", \"Eswatini\", \"Suriname\", \"Mozambique\", \"Chad\", \"MS Zaandam\", \"Nepal\", \"Montserrat\", \"Somalia\", \"St. Vincent Grenadines\", \"CAR\", \"Turks and Caicos\", \"Malawi\", \"Belize\", \"Vatican City\", \"Cabo Verde\", \"Botswana\", \"Nicaragua\", \"St. Barth\", \"Sierra Leone\", \"Mauritania\", \"Bhutan\", \"Western Sahara\", \"Sao Tome and Principe\", \"Gambia\", \"Anguilla\", \"Burundi\", \"British Virgin Islands\", \"Caribbean Netherlands\", \"Falkland Islands\", \"Papua New Guinea\", \"South Sudan\", \"Saint Pierre Miquelon\", \"Timor-Leste\"], \"showscale\": true, \"text\": [\"USA\", \"Spain\", \"Italy\", \"France\", \"Germany\", \"China\", \"Iran\", \"UK\", \"Turkey\", \"Switzerland\", \"Belgium\", \"Netherlands\", \"Canada\", \"Brazil\", \"Austria\", \"Portugal\", \"S. Korea\", \"Israel\", \"Sweden\", \"Russia\", \"Norway\", \"Australia\", \"Ireland\", \"India\", \"Chile\", \"Denmark\", \"Czechia\", \"Poland\", \"Romania\", \"Japan\", \"Pakistan\", \"Ecuador\", \"Malaysia\", \"Philippines\", \"Luxembourg\", \"Peru\", \"Saudi Arabia\", \"Mexico\", \"Indonesia\", \"Finland\", \"Serbia\", \"Thailand\", \"UAE\", \"Panama\", \"Qatar\", \"Dominican Republic\", \"Greece\", \"Colombia\", \"South Africa\", \"Argentina\", \"Ukraine\", \"Iceland\", \"Singapore\", \"Algeria\", \"Egypt\", \"Croatia\", \"New Zealand\", \"Morocco\", \"Estonia\", \"Iraq\", \"Slovenia\", \"Moldova\", \"Hong Kong\", \"Lithuania\", \"Hungary\", \"Armenia\", \"Belarus\", \"Bahrain\", \"Bosnia and Herzegovina\", \"Kuwait\", \"Azerbaijan\", \"Diamond Princess\", \"Kazakhstan\", \"Cameroon\", \"Tunisia\", \"North Macedonia\", \"Bulgaria\", \"Slovakia\", \"Lebanon\", \"Latvia\", \"Andorra\", \"Uzbekistan\", \"Cyprus\", \"Costa Rica\", \"Uruguay\", \"Afghanistan\", \"Oman\", \"Cuba\", \"Burkina Faso\", \"Albania\", \"Taiwan\", \"R\\u00c3\\u00a9union\", \"Jordan\", \"Ivory Coast\", \"Channel Islands\", \"Honduras\", \"Malta\", \"Ghana\", \"San Marino\", \"Niger\", \"Kyrgyzstan\", \"Mauritius\", \"Palestine\", \"Nigeria\", \"Vietnam\", \"Montenegro\", \"Senegal\", \"Bolivia\", \"Georgia\", \"Sri Lanka\", \"Faeroe Islands\", \"DRC\", \"Kenya\", \"Mayotte\", \"Venezuela\", \"Bangladesh\", \"Martinique\", \"Isle of Man\", \"Guinea\", \"Guadeloupe\", \"Brunei\", \"Paraguay\", \"Cambodia\", \"Gibraltar\", \"Trinidad and Tobago\", \"Rwanda\", \"El Salvador\", \"Djibouti\", \"Madagascar\", \"Guatemala\", \"Monaco\", \"Liechtenstein\", \"French Guiana\", \"Aruba\", \"Togo\", \"Barbados\", \"Jamaica\", \"Mali\", \"Uganda\", \"Ethiopia\", \"French Polynesia\", \"Congo\", \"Cayman Islands\", \"Macao\", \"Sint Maarten\", \"Bermuda\", \"Zambia\", \"Bahamas\", \"Guyana\", \"Guinea-Bissau\", \"Saint Martin\", \"Eritrea\", \"Gabon\", \"Benin\", \"Haiti\", \"Tanzania\", \"Myanmar\", \"Libya\", \"Antigua and Barbuda\", \"Syria\", \"Maldives\", \"New Caledonia\", \"Angola\", \"Namibia\", \"Equatorial Guinea\", \"Mongolia\", \"Fiji\", \"Dominica\", \"Liberia\", \"Laos\", \"Saint Lucia\", \"Sudan\", \"Cura\\u00c3\\u00a7ao\", \"Grenada\", \"Zimbabwe\", \"Greenland\", \"Saint Kitts and Nevis\", \"Seychelles\", \"Eswatini\", \"Suriname\", \"Mozambique\", \"Chad\", \"MS Zaandam\", \"Nepal\", \"Montserrat\", \"Somalia\", \"St. Vincent Grenadines\", \"CAR\", \"Turks and Caicos\", \"Malawi\", \"Belize\", \"Vatican City\", \"Cabo Verde\", \"Botswana\", \"Nicaragua\", \"St. Barth\", \"Sierra Leone\", \"Mauritania\", \"Bhutan\", \"Western Sahara\", \"Sao Tome and Principe\", \"Gambia\", \"Anguilla\", \"Burundi\", \"British Virgin Islands\", \"Caribbean Netherlands\", \"Falkland Islands\", \"Papua New Guinea\", \"South Sudan\", \"Saint Pierre Miquelon\", \"Timor-Leste\"], \"type\": \"choropleth\", \"z\": [400546, 141942, 135586, 109069, 107663, 81802, 62589, 55242, 34109, 22328, 22194, 19580, 17897, 14049, 12709, 12442, 10384, 9404, 7693, 7497, 6086, 6010, 5709, 5360, 5116, 5071, 5033, 4848, 4417, 4257, 4072, 3995, 3963, 3764, 2970, 2954, 2795, 2785, 2738, 2487, 2447, 2369, 2359, 2249, 2057, 1956, 1832, 1780, 1749, 1715, 1668, 1586, 1481, 1468, 1450, 1282, 1210, 1184, 1149, 1122, 1059, 1056, 936, 912, 895, 881, 861, 811, 764, 743, 717, 712, 704, 685, 623, 599, 581, 581, 548, 548, 545, 534, 494, 483, 424, 423, 419, 396, 384, 383, 379, 358, 353, 349, 335, 312, 293, 287, 279, 278, 270, 268, 261, 254, 251, 248, 237, 210, 208, 185, 184, 180, 172, 171, 166, 164, 152, 150, 144, 139, 135, 119, 117, 113, 107, 105, 93, 90, 88, 80, 79, 78, 77, 74, 65, 63, 63, 56, 52, 52, 47, 45, 45, 44, 40, 39, 39, 36, 33, 33, 32, 31, 30, 26, 25, 24, 22, 20, 19, 19, 19, 18, 17, 16, 16, 16, 15, 15, 14, 14, 14, 14, 13, 12, 11, 11, 11, 11, 10, 10, 10, 10, 9, 9, 9, 8, 8, 8, 8, 8, 7, 7, 7, 6, 6, 6, 6, 6, 5, 4, 4, 4, 3, 3, 3, 2, 2, 2, 2, 1, 1]}],\n",
       "                        {\"template\": {\"data\": {\"bar\": [{\"error_x\": {\"color\": \"#2a3f5f\"}, \"error_y\": {\"color\": \"#2a3f5f\"}, \"marker\": {\"line\": {\"color\": \"#E5ECF6\", \"width\": 0.5}}, \"type\": \"bar\"}], \"barpolar\": [{\"marker\": {\"line\": {\"color\": \"#E5ECF6\", \"width\": 0.5}}, \"type\": \"barpolar\"}], \"carpet\": [{\"aaxis\": {\"endlinecolor\": \"#2a3f5f\", \"gridcolor\": \"white\", \"linecolor\": \"white\", \"minorgridcolor\": \"white\", \"startlinecolor\": \"#2a3f5f\"}, \"baxis\": {\"endlinecolor\": \"#2a3f5f\", \"gridcolor\": \"white\", \"linecolor\": \"white\", \"minorgridcolor\": \"white\", \"startlinecolor\": \"#2a3f5f\"}, \"type\": \"carpet\"}], \"choropleth\": [{\"colorbar\": {\"outlinewidth\": 0, \"ticks\": \"\"}, \"type\": \"choropleth\"}], \"contour\": [{\"colorbar\": {\"outlinewidth\": 0, \"ticks\": \"\"}, \"colorscale\": [[0.0, \"#0d0887\"], [0.1111111111111111, \"#46039f\"], [0.2222222222222222, \"#7201a8\"], [0.3333333333333333, \"#9c179e\"], [0.4444444444444444, \"#bd3786\"], [0.5555555555555556, \"#d8576b\"], [0.6666666666666666, \"#ed7953\"], [0.7777777777777778, \"#fb9f3a\"], [0.8888888888888888, \"#fdca26\"], [1.0, \"#f0f921\"]], \"type\": \"contour\"}], \"contourcarpet\": [{\"colorbar\": {\"outlinewidth\": 0, \"ticks\": \"\"}, \"type\": \"contourcarpet\"}], \"heatmap\": [{\"colorbar\": {\"outlinewidth\": 0, \"ticks\": \"\"}, \"colorscale\": [[0.0, \"#0d0887\"], [0.1111111111111111, \"#46039f\"], [0.2222222222222222, \"#7201a8\"], [0.3333333333333333, \"#9c179e\"], [0.4444444444444444, \"#bd3786\"], [0.5555555555555556, \"#d8576b\"], [0.6666666666666666, \"#ed7953\"], [0.7777777777777778, \"#fb9f3a\"], [0.8888888888888888, \"#fdca26\"], [1.0, \"#f0f921\"]], \"type\": \"heatmap\"}], \"heatmapgl\": [{\"colorbar\": {\"outlinewidth\": 0, \"ticks\": \"\"}, \"colorscale\": [[0.0, \"#0d0887\"], [0.1111111111111111, \"#46039f\"], [0.2222222222222222, \"#7201a8\"], [0.3333333333333333, \"#9c179e\"], [0.4444444444444444, \"#bd3786\"], [0.5555555555555556, \"#d8576b\"], [0.6666666666666666, \"#ed7953\"], [0.7777777777777778, \"#fb9f3a\"], [0.8888888888888888, \"#fdca26\"], [1.0, \"#f0f921\"]], \"type\": \"heatmapgl\"}], \"histogram\": [{\"marker\": {\"colorbar\": {\"outlinewidth\": 0, \"ticks\": \"\"}}, \"type\": \"histogram\"}], \"histogram2d\": [{\"colorbar\": {\"outlinewidth\": 0, \"ticks\": \"\"}, \"colorscale\": [[0.0, \"#0d0887\"], [0.1111111111111111, \"#46039f\"], [0.2222222222222222, \"#7201a8\"], [0.3333333333333333, \"#9c179e\"], [0.4444444444444444, \"#bd3786\"], [0.5555555555555556, \"#d8576b\"], [0.6666666666666666, \"#ed7953\"], [0.7777777777777778, \"#fb9f3a\"], [0.8888888888888888, \"#fdca26\"], [1.0, \"#f0f921\"]], \"type\": \"histogram2d\"}], \"histogram2dcontour\": [{\"colorbar\": {\"outlinewidth\": 0, \"ticks\": \"\"}, \"colorscale\": [[0.0, \"#0d0887\"], [0.1111111111111111, \"#46039f\"], [0.2222222222222222, \"#7201a8\"], [0.3333333333333333, \"#9c179e\"], [0.4444444444444444, \"#bd3786\"], [0.5555555555555556, \"#d8576b\"], [0.6666666666666666, \"#ed7953\"], [0.7777777777777778, \"#fb9f3a\"], [0.8888888888888888, \"#fdca26\"], [1.0, \"#f0f921\"]], \"type\": \"histogram2dcontour\"}], \"mesh3d\": [{\"colorbar\": {\"outlinewidth\": 0, \"ticks\": \"\"}, \"type\": \"mesh3d\"}], \"parcoords\": [{\"line\": {\"colorbar\": {\"outlinewidth\": 0, \"ticks\": \"\"}}, \"type\": \"parcoords\"}], \"pie\": [{\"automargin\": true, \"type\": \"pie\"}], \"scatter\": [{\"marker\": {\"colorbar\": {\"outlinewidth\": 0, \"ticks\": \"\"}}, \"type\": \"scatter\"}], \"scatter3d\": [{\"line\": {\"colorbar\": {\"outlinewidth\": 0, \"ticks\": \"\"}}, \"marker\": {\"colorbar\": {\"outlinewidth\": 0, \"ticks\": \"\"}}, \"type\": \"scatter3d\"}], \"scattercarpet\": [{\"marker\": {\"colorbar\": {\"outlinewidth\": 0, \"ticks\": \"\"}}, \"type\": \"scattercarpet\"}], \"scattergeo\": [{\"marker\": {\"colorbar\": {\"outlinewidth\": 0, \"ticks\": \"\"}}, \"type\": \"scattergeo\"}], \"scattergl\": [{\"marker\": {\"colorbar\": {\"outlinewidth\": 0, \"ticks\": \"\"}}, \"type\": \"scattergl\"}], \"scattermapbox\": [{\"marker\": {\"colorbar\": {\"outlinewidth\": 0, \"ticks\": \"\"}}, \"type\": \"scattermapbox\"}], \"scatterpolar\": [{\"marker\": {\"colorbar\": {\"outlinewidth\": 0, \"ticks\": \"\"}}, \"type\": \"scatterpolar\"}], \"scatterpolargl\": [{\"marker\": {\"colorbar\": {\"outlinewidth\": 0, \"ticks\": \"\"}}, \"type\": \"scatterpolargl\"}], \"scatterternary\": [{\"marker\": {\"colorbar\": {\"outlinewidth\": 0, \"ticks\": \"\"}}, \"type\": \"scatterternary\"}], \"surface\": [{\"colorbar\": {\"outlinewidth\": 0, \"ticks\": \"\"}, \"colorscale\": [[0.0, \"#0d0887\"], [0.1111111111111111, \"#46039f\"], [0.2222222222222222, \"#7201a8\"], [0.3333333333333333, \"#9c179e\"], [0.4444444444444444, \"#bd3786\"], [0.5555555555555556, \"#d8576b\"], [0.6666666666666666, \"#ed7953\"], [0.7777777777777778, \"#fb9f3a\"], [0.8888888888888888, \"#fdca26\"], [1.0, \"#f0f921\"]], \"type\": \"surface\"}], \"table\": [{\"cells\": {\"fill\": {\"color\": \"#EBF0F8\"}, \"line\": {\"color\": \"white\"}}, \"header\": {\"fill\": {\"color\": \"#C8D4E3\"}, \"line\": {\"color\": \"white\"}}, \"type\": \"table\"}]}, \"layout\": {\"annotationdefaults\": {\"arrowcolor\": \"#2a3f5f\", \"arrowhead\": 0, \"arrowwidth\": 1}, \"coloraxis\": {\"colorbar\": {\"outlinewidth\": 0, \"ticks\": \"\"}}, \"colorscale\": {\"diverging\": [[0, \"#8e0152\"], [0.1, \"#c51b7d\"], [0.2, \"#de77ae\"], [0.3, \"#f1b6da\"], [0.4, \"#fde0ef\"], [0.5, \"#f7f7f7\"], [0.6, \"#e6f5d0\"], [0.7, \"#b8e186\"], [0.8, \"#7fbc41\"], [0.9, \"#4d9221\"], [1, \"#276419\"]], \"sequential\": [[0.0, \"#0d0887\"], [0.1111111111111111, \"#46039f\"], [0.2222222222222222, \"#7201a8\"], [0.3333333333333333, \"#9c179e\"], [0.4444444444444444, \"#bd3786\"], [0.5555555555555556, \"#d8576b\"], [0.6666666666666666, \"#ed7953\"], [0.7777777777777778, \"#fb9f3a\"], [0.8888888888888888, \"#fdca26\"], [1.0, \"#f0f921\"]], \"sequentialminus\": [[0.0, \"#0d0887\"], [0.1111111111111111, \"#46039f\"], [0.2222222222222222, \"#7201a8\"], [0.3333333333333333, \"#9c179e\"], [0.4444444444444444, \"#bd3786\"], [0.5555555555555556, \"#d8576b\"], [0.6666666666666666, \"#ed7953\"], [0.7777777777777778, \"#fb9f3a\"], [0.8888888888888888, \"#fdca26\"], [1.0, \"#f0f921\"]]}, \"colorway\": [\"#636efa\", \"#EF553B\", \"#00cc96\", \"#ab63fa\", \"#FFA15A\", \"#19d3f3\", \"#FF6692\", \"#B6E880\", \"#FF97FF\", \"#FECB52\"], \"font\": {\"color\": \"#2a3f5f\"}, \"geo\": {\"bgcolor\": \"white\", \"lakecolor\": \"white\", \"landcolor\": \"#E5ECF6\", \"showlakes\": true, \"showland\": true, \"subunitcolor\": \"white\"}, \"hoverlabel\": {\"align\": \"left\"}, \"hovermode\": \"closest\", \"mapbox\": {\"style\": \"light\"}, \"paper_bgcolor\": \"white\", \"plot_bgcolor\": \"#E5ECF6\", \"polar\": {\"angularaxis\": {\"gridcolor\": \"white\", \"linecolor\": \"white\", \"ticks\": \"\"}, \"bgcolor\": \"#E5ECF6\", \"radialaxis\": {\"gridcolor\": \"white\", \"linecolor\": \"white\", \"ticks\": \"\"}}, \"scene\": {\"xaxis\": {\"backgroundcolor\": \"#E5ECF6\", \"gridcolor\": \"white\", \"gridwidth\": 2, \"linecolor\": \"white\", \"showbackground\": true, \"ticks\": \"\", \"zerolinecolor\": \"white\"}, \"yaxis\": {\"backgroundcolor\": \"#E5ECF6\", \"gridcolor\": \"white\", \"gridwidth\": 2, \"linecolor\": \"white\", \"showbackground\": true, \"ticks\": \"\", \"zerolinecolor\": \"white\"}, \"zaxis\": {\"backgroundcolor\": \"#E5ECF6\", \"gridcolor\": \"white\", \"gridwidth\": 2, \"linecolor\": \"white\", \"showbackground\": true, \"ticks\": \"\", \"zerolinecolor\": \"white\"}}, \"shapedefaults\": {\"line\": {\"color\": \"#2a3f5f\"}}, \"ternary\": {\"aaxis\": {\"gridcolor\": \"white\", \"linecolor\": \"white\", \"ticks\": \"\"}, \"baxis\": {\"gridcolor\": \"white\", \"linecolor\": \"white\", \"ticks\": \"\"}, \"bgcolor\": \"#E5ECF6\", \"caxis\": {\"gridcolor\": \"white\", \"linecolor\": \"white\", \"ticks\": \"\"}}, \"title\": {\"x\": 0.05}, \"xaxis\": {\"automargin\": true, \"gridcolor\": \"white\", \"linecolor\": \"white\", \"ticks\": \"\", \"title\": {\"standoff\": 15}, \"zerolinecolor\": \"white\", \"zerolinewidth\": 2}, \"yaxis\": {\"automargin\": true, \"gridcolor\": \"white\", \"linecolor\": \"white\", \"ticks\": \"\", \"title\": {\"standoff\": 15}, \"zerolinecolor\": \"white\", \"zerolinewidth\": 2}}}},\n",
       "                        {\"responsive\": true}\n",
       "                    ).then(function(){\n",
       "                            \n",
       "var gd = document.getElementById('29cc6f42-1b9a-47f0-ab38-b78f6a1970b0');\n",
       "var x = new MutationObserver(function (mutations, observer) {{\n",
       "        var display = window.getComputedStyle(gd).display;\n",
       "        if (!display || display === 'none') {{\n",
       "            console.log([gd, 'removed!']);\n",
       "            Plotly.purge(gd);\n",
       "            observer.disconnect();\n",
       "        }}\n",
       "}});\n",
       "\n",
       "// Listen for the removal of the full notebook cells\n",
       "var notebookContainer = gd.closest('#notebook-container');\n",
       "if (notebookContainer) {{\n",
       "    x.observe(notebookContainer, {childList: true});\n",
       "}}\n",
       "\n",
       "// Listen for the clearing of the current output cell\n",
       "var outputEl = gd.closest('.output');\n",
       "if (outputEl) {{\n",
       "    x.observe(outputEl, {childList: true});\n",
       "}}\n",
       "\n",
       "                        })\n",
       "                };\n",
       "                });\n",
       "            </script>\n",
       "        </div>"
      ]
     },
     "metadata": {},
     "output_type": "display_data"
    }
   ],
   "source": [
    "fig = go.Figure()\n",
    "fig.add_trace(go.Choropleth(\n",
    "        locationmode = 'country names',\n",
    "        locations = corona[\"Country,Other\"],\n",
    "        z = corona.TotalCases,\n",
    "        text = corona[\"Country,Other\"],\n",
    "        #colorscale = [[0,'rgb(0, 0, 0)'],[1,'rgb(0, 0, 0)']],\n",
    "        colorscale='Rainbow',\n",
    "        autocolorscale = False,\n",
    "        showscale = True,\n",
    "        geo = 'geo'\n",
    "    ))"
   ]
  },
  {
   "cell_type": "markdown",
   "metadata": {},
   "source": [
    "# Kesimpulan"
   ]
  },
  {
   "cell_type": "markdown",
   "metadata": {},
   "source": [
    "Di dunia perkembangan Covid-19 cukup pesat. Amerika menjadi negara dengan jumlah kasus terbesar hingga awal April ini.\n",
    "Cina menjadi salah satu negara yang kondisi pandemi coronanya mulai stabil.\n",
    "Disarankan untuk mengambil pelajaran dari cara penanggulangan kasus dan\n",
    "atau melakukan studi lebih lanjut di sana. <br>\n",
    "Dari data kasus - kasus yang dilaporkan, kebanyakan pasien telah mengunjungi Wuhan, dengan karakteristik rata-rata usia pasien sekitar 40-60 tahun dan kebanyakan memiliki gejala awal berupa demam, batuk, dan sakit tenggorokan dengan masa inkubasi sekitar satu minggu."
   ]
  }
 ],
 "metadata": {
  "kernelspec": {
   "display_name": "Python 3",
   "language": "python",
   "name": "python3"
  },
  "language_info": {
   "codemirror_mode": {
    "name": "ipython",
    "version": 3
   },
   "file_extension": ".py",
   "mimetype": "text/x-python",
   "name": "python",
   "nbconvert_exporter": "python",
   "pygments_lexer": "ipython3",
   "version": "3.8.1"
  }
 },
 "nbformat": 4,
 "nbformat_minor": 2
}
